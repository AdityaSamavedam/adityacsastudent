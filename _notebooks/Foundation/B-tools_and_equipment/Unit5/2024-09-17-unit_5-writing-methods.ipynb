{
 "cells": [
  {
   "cell_type": "raw",
   "metadata": {
    "vscode": {
     "languageId": "raw"
    }
   },
   "source": [
    "---\n",
    "layout: post\n",
    "toc: true\n",
    "title: Writing Methods \n",
    "type: ccc\n",
    "Authors: Aashray, Lilian, Matthew, Tara, and Trevor\n",
    "permalink: /csa/unit5/5.6/\n",
    "menu: nav/CSA_Units/csa_unit5_p3.html\n",
    "---"
   ]
  },
  {
   "cell_type": "markdown",
   "metadata": {},
   "source": [
    "<img src=\"https://github.com/user-attachments/assets/b6e29141-321e-4ec4-a0fe-abf747eb6baa\">"
   ]
  },
  {
   "cell_type": "markdown",
   "metadata": {},
   "source": [
    "## What is a Method?!\n",
    "> A method is a **block of code that belong to a class**, very similar to a function. \n",
    "\n",
    "Methods in Java can take inputs (parameters), perform actions, and return a value (or void if no value is returned).\n",
    "\n",
    "Methods that are created by the programmer to perform tasks are called **user-defined methods**, while other methods can be built in (like System.out.println())."
   ]
  },
  {
   "cell_type": "markdown",
   "metadata": {},
   "source": [
    "## Types of methods:\n",
    "There are many different types of methods in Java, but here I'll only highlight the two most common ones and the ones used by College board.\n",
    "\n",
    "> Instance Methods: Methods that belong to an **instance** of a class\n",
    "Instance methods require an object of the class to be used. They operate on objects of the class.\n",
    "- Can access instance variables and other instance methods within the class\n",
    "- Can access static variables and methods\n",
    "\n",
    "> Static Methods: Methods that belong to the class itself trather than any instance of the class. Trhey are used for operations taht do not depend on instance-spefific data. \n",
    "- Can only directly access other static variables and methods."
   ]
  },
  {
   "cell_type": "markdown",
   "metadata": {},
   "source": [
    "## Here's a quick example!\n",
    "- Example of an instance method: addMinion()\n",
    "  - Adds a minion to the list of a villain\n",
    "  - Parameters: String minon\n",
    "  - Example call: gru.addMinion(\"Kevin\")\n",
    "- Second example of an instance method: Villain()\n",
    "  - Changes instance data\n",
    "  - Parameters: string Name, String evilPlan\n",
    "\n",
    "- Example of a static method: getVillainCount()\n",
    "  - Returns the total amount of Villain instances\n",
    "  - No parameters\n",
    "  - Example call: System.out.println(\"There are \" + Villain.getVillainCount() + \" villains in the world.\");"
   ]
  },
  {
   "cell_type": "markdown",
   "metadata": {},
   "source": [
    "## Popcorn hack:\n",
    "- Add another static method to the Villain class\n",
    "- Keep it minion themed and fun!"
   ]
  },
  {
   "cell_type": "code",
   "execution_count": 1,
   "metadata": {
    "vscode": {
     "languageId": "java"
    }
   },
   "outputs": [
    {
     "name": "stdout",
     "output_type": "stream",
     "text": [
      "=== Adding Minions ===\n",
      "Kevin has been added to Gru's army.\n",
      "Stuart has been added to Gru's army.\n",
      "Bob has been added to Gru's army.\n",
      "Henchman 1 has been added to Vector's army.\n",
      "\n",
      "=== Villain Descriptions ===\n",
      "Gru is planning to: steal the moon!\n",
      "They have 3 minions.\n",
      "\n",
      "Vector is planning to: take over the world with magnitude and direction!\n",
      "They have 1 minions.\n",
      "\n",
      "=== Total Villain Count ===\n",
      "There are 2 villains in the world.\n",
      "\n",
      "=== Recruiting Minions ===\n",
      "All villains are recruiting new minions: [Jerry, Phil, Carl]\n"
     ]
    }
   ],
   "source": [
    "import java.util.ArrayList;\n",
    "import java.util.List;\n",
    "\n",
    "public class Villain {\n",
    "    // Instance variables\n",
    "    public String name;\n",
    "    public String evilPlan;\n",
    "    public List<String> minions;\n",
    "    public static int villainCount = 0;\n",
    "\n",
    "    // Constructor for name, plan, and minions\n",
    "    public Villain(String name, String evilPlan) {\n",
    "        this.name = name;\n",
    "        this.evilPlan = evilPlan;\n",
    "        this.minions = new ArrayList<>();\n",
    "        villainCount++;\n",
    "    }\n",
    "\n",
    "    // Instance method to add a minion. LOOK HERE!!\n",
    "    public void addMinion(String minion) {\n",
    "        minions.add(minion);\n",
    "        System.out.println(minion + \" has been added to \" + name + \"'s army.\");\n",
    "    }\n",
    "\n",
    "    // Instance method to describe the villain. \n",
    "    public void describeVillain() {\n",
    "        System.out.println(name + \" is planning to: \" + evilPlan);\n",
    "        System.out.println(\"They have \" + minions.size() + \" minions.\");\n",
    "    }\n",
    "\n",
    "    // Static method to get the total count of villains\n",
    "    public static int getVillainCount() {\n",
    "        return villainCount;\n",
    "    }\n",
    "\n",
    "     // Static method to recruit minions for all villains\n",
    "     public static void recruitMinions(List<String> minionsToRecruit) {\n",
    "        System.out.println(\"All villains are recruiting new minions: \" + minionsToRecruit);\n",
    "    }\n",
    "}\n",
    "\n",
    "public class Main {\n",
    "    public static void main(String[] args) {\n",
    "        Villain.villainCount = 0;\n",
    "\n",
    "        // Create new villains\n",
    "        Villain gru = new Villain(\"Gru\", \"steal the moon!\");\n",
    "        Villain vector = new Villain(\"Vector\", \"take over the world with magnitude and direction!\");\n",
    "\n",
    "        System.out.println(\"=== Adding Minions ===\");\n",
    "        // Create some minions\n",
    "        gru.addMinion(\"Kevin\");\n",
    "        gru.addMinion(\"Stuart\");\n",
    "        gru.addMinion(\"Bob\");\n",
    "\n",
    "        // Create some minions for Vector\n",
    "        vector.addMinion(\"Henchman 1\");\n",
    "\n",
    "        System.out.println();\n",
    "\n",
    "        // Describe the villains and their plans\n",
    "        System.out.println(\"=== Villain Descriptions ===\");\n",
    "        gru.describeVillain();\n",
    "        System.out.println();\n",
    "        vector.describeVillain();\n",
    "        System.out.println();\n",
    "\n",
    "        // Get the total count of villains\n",
    "        System.out.println(\"=== Total Villain Count ===\");\n",
    "        System.out.println(\"There are \" + Villain.getVillainCount() + \" villains in the world.\");\n",
    "\n",
    "         // Recruit new minions for all villains\n",
    "         List<String> newMinions = List.of(\"Jerry\", \"Phil\", \"Carl\");\n",
    "         System.out.println();\n",
    "         System.out.println(\"=== Recruiting Minions ===\");\n",
    "         Villain.recruitMinions(newMinions);\n",
    "    }\n",
    "}\n",
    "\n",
    "Main.main(null);"
   ]
  },
  {
   "cell_type": "markdown",
   "metadata": {},
   "source": [
    "## Popcorn hack:\n",
    "Dr. Nefario is busy assigning work for the minions, and he needs your help to organize his group. Your mission is to write and implement a Java classes for each minion which includes their name, gadgets, personality, and more. Get ready to make Dr. Nefario's life easier and keep the minions organized!"
   ]
  },
  {
   "cell_type": "code",
   "execution_count": 2,
   "metadata": {
    "vscode": {
     "languageId": "java"
    }
   },
   "outputs": [
    {
     "name": "stdout",
     "output_type": "stream",
     "text": [
      "Kevin has been equipped with the Fart Gun.\n",
      "Stuart has been equipped with the Shrink Ray.\n",
      "Bob has been equipped with the Banana Blaster.\n",
      "Kevin is now working on: Build the moon shrinker device.\n",
      "Stuart is now working on: Test the shrink ray.\n",
      "Bob is now working on: Guard the secret base.\n",
      "=== Minion Details ===\n",
      "Minion Name: Kevin\n",
      "Personality: Playful\n",
      "Gadgets: [Fart Gun]\n",
      "Assigned Task: Build the moon shrinker device.\n",
      "\n",
      "Minion Name: Stuart\n",
      "Personality: Lazy\n",
      "Gadgets: [Shrink Ray]\n",
      "Assigned Task: Test the shrink ray.\n",
      "\n",
      "Minion Name: Bob\n",
      "Personality: Curious\n",
      "Gadgets: [Banana Blaster]\n",
      "Assigned Task: Guard the secret base.\n",
      "\n"
     ]
    }
   ],
   "source": [
    "import java.util.ArrayList;\n",
    "import java.util.List;\n",
    "\n",
    "class Minion {\n",
    "    // instance variables\n",
    "    private String name;\n",
    "    private String personality;\n",
    "    private List<String> gadgets;\n",
    "    private String assignedTask;\n",
    "\n",
    "    // constructor\n",
    "    public Minion(String name, String personality) {\n",
    "        this.name = name;\n",
    "        this.personality = personality;\n",
    "        this.gadgets = new ArrayList<>();\n",
    "        this.assignedTask = \"No task assigned\"; // default task\n",
    "    }\n",
    "\n",
    "    // methid to add gadget\n",
    "    public void addGadget(String gadget) {\n",
    "        gadgets.add(gadget);\n",
    "        System.out.println(name + \" has been equipped with the \" + gadget + \".\");\n",
    "    }\n",
    "\n",
    "    // method to assign= task\n",
    "    public void assignTask(String task) {\n",
    "        assignedTask = task;\n",
    "        System.out.println(name + \" is now working on: \" + task);\n",
    "    }\n",
    "\n",
    "    // method to display minion's details\n",
    "    public void displayDetails() {\n",
    "        System.out.println(\"Minion Name: \" + name);\n",
    "        System.out.println(\"Personality: \" + personality);\n",
    "        System.out.println(\"Gadgets: \" + gadgets);\n",
    "        System.out.println(\"Assigned Task: \" + assignedTask);\n",
    "        System.out.println();\n",
    "    }\n",
    "}\n",
    "\n",
    "public class DrNefarioLab {\n",
    "    public static void main(String[] args) {\n",
    "        // Create some minions\n",
    "        Minion kevin = new Minion(\"Kevin\", \"Playful\");\n",
    "        Minion stuart = new Minion(\"Stuart\", \"Lazy\");\n",
    "        Minion bob = new Minion(\"Bob\", \"Curious\");\n",
    "\n",
    "        // Equip them with gadgets\n",
    "        kevin.addGadget(\"Fart Gun\");\n",
    "        stuart.addGadget(\"Shrink Ray\");\n",
    "        bob.addGadget(\"Banana Blaster\");\n",
    "\n",
    "        // Assign tasks\n",
    "        kevin.assignTask(\"Build the moon shrinker device.\");\n",
    "        stuart.assignTask(\"Test the shrink ray.\");\n",
    "        bob.assignTask(\"Guard the secret base.\");\n",
    "\n",
    "        // Display details of each minion\n",
    "        System.out.println(\"=== Minion Details ===\");\n",
    "        kevin.displayDetails();\n",
    "        stuart.displayDetails();\n",
    "        bob.displayDetails();\n",
    "    }\n",
    "}\n",
    "\n",
    "DrNefarioLab.main(null);\n"
   ]
  }
 ],
 "metadata": {
  "kernelspec": {
   "display_name": "Java",
   "language": "java",
   "name": "java"
  },
  "language_info": {
   "codemirror_mode": "java",
   "file_extension": ".jshell",
   "mimetype": "text/x-java-source",
   "name": "Java",
   "pygments_lexer": "java",
   "version": "17.0.12+7-Ubuntu-1ubuntu224.04"
  }
 },
 "nbformat": 4,
 "nbformat_minor": 2
}
