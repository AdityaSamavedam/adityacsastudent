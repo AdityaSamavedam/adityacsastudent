{
 "cells": [
  {
   "cell_type": "raw",
   "metadata": {
    "vscode": {
     "languageId": "raw"
    }
   },
   "source": [
    "---\n",
    "layout: post\n",
    "title: Quiz Questions for APCSA Unit 1\n",
    "description: Questions and Code Cells for the Quiz on Unit 1\n",
    "categories: [CSA-Quiz]\n",
    "permalink: /csa/units/quiz1\n",
    "menu: nav/CSA_Units/csa_unit1.html\n",
    "author: Soham Kamat & Aniket Chakradeo\n",
    "---"
   ]
  },
  {
   "cell_type": "markdown",
   "metadata": {},
   "source": [
    "## Unit 1: Primitive Types"
   ]
  },
  {
   "cell_type": "markdown",
   "metadata": {},
   "source": [
    "### Question 1\n",
    "\n",
    "Which of the following is a valid declaration of a variable of type int in Java?<br>\n",
    "a) int 123variable;<br>\n",
    "b) int variable123;<br>\n",
    "c) int variable#123;<br>\n",
    "d) int variable 123;\n",
    "\n",
    "Answer: b) int variable123;\n"
   ]
  },
  {
   "cell_type": "code",
   "execution_count": 1,
   "metadata": {
    "vscode": {
     "languageId": "java"
    }
   },
   "outputs": [
    {
     "name": "stdout",
     "output_type": "stream",
     "text": [
      "123\n"
     ]
    }
   ],
   "source": [
    "// Q1 Hack: Define variables according to Java naming conventions.\n",
    "// For instance, is it snake_case, camelCase, or PascalCase?\n",
    "\n",
    "int variable123 = 123;\n",
    "System.out.println(variable123);"
   ]
  },
  {
   "cell_type": "markdown",
   "metadata": {},
   "source": [
    "### Question 2\n",
    "\n",
    "What is the value of the following expression in Java: 5 / 2?<br>\n",
    "a) 2.5<br>\n",
    "b) 3<br>\n",
    "c) 2<br>\n",
    "d) 2.0\n",
    "\n",
    "Answer: c) 2\n"
   ]
  },
  {
   "cell_type": "code",
   "execution_count": 3,
   "metadata": {
    "vscode": {
     "languageId": "java"
    }
   },
   "outputs": [
    {
     "name": "stdout",
     "output_type": "stream",
     "text": [
      "Integer division: 5 / 2 = 2\n",
      "Floating-point division: 5.0 / 2 = 2.5\n"
     ]
    }
   ],
   "source": [
    "// Q2.1 Hack: Show in code difference between integer and floating point division.\n",
    "// Q2.2 Hack: Show in code the differnt number types in Java and how they behave.\n",
    "// Behave means definition and assignment.\n",
    "public class DivisionExample {\n",
    "    public static void main(String[] args) {\n",
    "        // Integer division (both operands are integers)\n",
    "        int intResult = 5 / 2;\n",
    "        System.out.println(\"Integer division: 5 / 2 = \" + intResult);  // Output: 2\n",
    "\n",
    "        // Floating-point division (one operand is a double)\n",
    "        double doubleResult = 5.0 / 2;\n",
    "        System.out.println(\"Floating-point division: 5.0 / 2 = \" + doubleResult);  // Output: 2.5\n",
    "    }\n",
    "}\n",
    "DivisionExample.main(null);"
   ]
  },
  {
   "cell_type": "code",
   "execution_count": 4,
   "metadata": {
    "vscode": {
     "languageId": "java"
    }
   },
   "outputs": [
    {
     "name": "stdout",
     "output_type": "stream",
     "text": [
      "byte: 10\n",
      "short: 1000\n",
      "int: 50000\n",
      "long: 1000000\n",
      "float: 5.75\n",
      "double: 3.14159\n"
     ]
    }
   ],
   "source": [
    "public class NumberTypesExample {\n",
    "    public static void main(String[] args) {\n",
    "        // Integer types\n",
    "        byte b = 10;    // byte: 8-bit integer\n",
    "        short s = 1000; // short: 16-bit integer\n",
    "        int i = 50000;  // int: 32-bit integer\n",
    "        long l = 1000000L; // long: 64-bit integer\n",
    "        \n",
    "        // Floating-point types\n",
    "        float f = 5.75f;  // float: 32-bit floating-point\n",
    "        double d = 3.14159;  // double: 64-bit floating-point\n",
    "        \n",
    "        // Display the values\n",
    "        System.out.println(\"byte: \" + b);\n",
    "        System.out.println(\"short: \" + s);\n",
    "        System.out.println(\"int: \" + i);\n",
    "        System.out.println(\"long: \" + l);\n",
    "        System.out.println(\"float: \" + f);\n",
    "        System.out.println(\"double: \" + d);\n",
    "    }\n",
    "}\n",
    "NumberTypesExample.main(null);"
   ]
  },
  {
   "cell_type": "markdown",
   "metadata": {
    "vscode": {
     "languageId": "raw"
    }
   },
   "source": [
    "### Question 3\n",
    "\n",
    "Which primitive type is used to represent a single character in Java?<br>\n",
    "a) char<br>\n",
    "b) String<br>\n",
    "c) int<br>\n",
    "d) byte\n",
    "\n",
    "Answer: a) char"
   ]
  },
  {
   "cell_type": "code",
   "execution_count": 6,
   "metadata": {
    "vscode": {
     "languageId": "java"
    }
   },
   "outputs": [
    {
     "name": "stdout",
     "output_type": "stream",
     "text": [
      "boolean isJavaFun: true\n",
      "boolean isFishTasty: false\n",
      "char grade: A\n",
      "char symbol: @\n"
     ]
    }
   ],
   "source": [
    "// Q3.1 Hack: Show in code all the the non-number Java primitive data types and how they behave.\n",
    "public class NonNumberTypes {\n",
    "    public static void main(String[] args) {\n",
    "        // boolean type\n",
    "        boolean isJavaFun = true;\n",
    "        boolean isFishTasty = false;\n",
    "\n",
    "        // char type\n",
    "        char grade = 'A';\n",
    "        char symbol = '@';\n",
    "\n",
    "        // Display values\n",
    "        System.out.println(\"boolean isJavaFun: \" + isJavaFun);\n",
    "        System.out.println(\"boolean isFishTasty: \" + isFishTasty);\n",
    "        System.out.println(\"char grade: \" + grade);\n",
    "        System.out.println(\"char symbol: \" + symbol);\n",
    "    }\n",
    "}\n",
    "NonNumberTypes.main(null);"
   ]
  },
  {
   "cell_type": "code",
   "execution_count": 7,
   "metadata": {
    "vscode": {
     "languageId": "java"
    }
   },
   "outputs": [
    {
     "name": "stdout",
     "output_type": "stream",
     "text": [
      "greeting: Hello, World!\n",
      "name: Java\n",
      "message: Hello, World! Welcome to Java.\n",
      "Length of greeting: 13\n",
      "Character at index 0: H\n"
     ]
    }
   ],
   "source": [
    "// Q3.2 Hack: Show in code the String data type and how it behaves.\n",
    "public class StringExample {\n",
    "    public static void main(String[] args) {\n",
    "        // String type\n",
    "        String greeting = \"Hello, World!\";\n",
    "        String name = \"Java\";\n",
    "\n",
    "        // String concatenation\n",
    "        String message = greeting + \" Welcome to \" + name + \".\";\n",
    "\n",
    "        // Display values\n",
    "        System.out.println(\"greeting: \" + greeting);\n",
    "        System.out.println(\"name: \" + name);\n",
    "        System.out.println(\"message: \" + message);\n",
    "\n",
    "        // String length and character access\n",
    "        System.out.println(\"Length of greeting: \" + greeting.length());\n",
    "        System.out.println(\"Character at index 0: \" + greeting.charAt(0));\n",
    "    }\n",
    "}\n",
    "StringExample.main(null);"
   ]
  },
  {
   "cell_type": "markdown",
   "metadata": {},
   "source": [
    "### Question 4\n",
    "\n",
    "Answer the following questions based on the code cell:\n",
    "* a) What kind of types are person1 and person2? \n",
    "* Answer: \n",
    "* b) Do person1 and person3 point to the same value in memory?\n",
    "* Answer:\n",
    "* c) Is the integer \"number\" stored in the heap or in the stack?\n",
    "* Answer:\n",
    "* d) Is the value that \"person1\" points to stored in the heap or in the stack?\n",
    "* Answer: "
   ]
  },
  {
   "cell_type": "code",
   "execution_count": null,
   "metadata": {
    "vscode": {
     "languageId": "java"
    }
   },
   "outputs": [],
   "source": [
    "public class Person {\n",
    "    String name;\n",
    "    int age;\n",
    "    int height;\n",
    "    String job;\n",
    "\n",
    "    public Person(String name, int age, int height, String job) {\n",
    "        this.name = name;\n",
    "        this.age = age;\n",
    "        this.height = height;\n",
    "        this.job = job;\n",
    "    }\n",
    "}\n",
    "\n",
    "public static void main(String[] args) {\n",
    "    Person person1 = new Person(\"Carl\", 25, 165, \"Construction Worker\");\n",
    "    Person person2 = new Person(\"Adam\", 29, 160, \"Truck Driver\");\n",
    "    Person person3 = person1;\n",
    "    int number = 16;\n",
    "    System.out.println(number);\n",
    "}\n",
    "main(null); // This is required in Jupiter Notebook to run the main method."
   ]
  },
  {
   "cell_type": "markdown",
   "metadata": {},
   "source": [
    "a) person1 and person2 are reference types\n",
    "<br>\n",
    "b) Yes, person1 and person3 point to the same value in memory.\n",
    "<br>\n",
    "c) Is the integer \"number\" stored in the stack?\n",
    "<br>\n",
    "d) The value that person1 points to (the Person object) is stored in the heap."
   ]
  },
  {
   "cell_type": "markdown",
   "metadata": {},
   "source": [
    "### Question 5 \n",
    "\n",
    "(a) Define primitive types and reference types in Java. The application is for banking, where you need to represent customer information.\n",
    "<br>\n",
    "Ans) Primitive types in Java are predefined by the language and represent simple values like numbers, characters, and booleans. They are not objects and store their values directly in memory (on the stack). Examples include int, double, char, and boolean.\n",
    "<br>\n",
    "Reference types are objects created from classes. These store references (memory addresses) to the actual data, which resides in the heap. Reference types include classes, arrays, and interfaces. For example, String and custom classes like Account are reference types.\n",
    "<br>\n",
    "\n",
    "(b) Add comments for primitive types and reference types. In terms of memory allocation, discuss concepts like instance, stack, and heap where it adds value.\n",
    "\n",
    "(c) To assist in requirements, here are some required elements:\n",
    "- Create multiple customers from the `public class Account`.\n",
    "- Consider key class variables that a Bank may require: `name`, `balance`, `accountNumber`.\n",
    "- Create a two argument constructor using `name` and `balance`.\n",
    "- Consider in constructor how you will create a unique account number using `static int lastAccountNumber`\n",
    "- Define a method `calculateInterest` that works with getting and setting `double balance` using `private static double interestRate`."
   ]
  },
  {
   "cell_type": "code",
   "execution_count": 11,
   "metadata": {
    "vscode": {
     "languageId": "java"
    }
   },
   "outputs": [
    {
     "name": "stdout",
     "output_type": "stream",
     "text": [
      "Account Number: 1001\n",
      "Customer Name: Alice\n",
      "Current Balance: $1050.0\n",
      "Account Number: 1002\n",
      "Customer Name: Bob\n",
      "Current Balance: $1575.0\n"
     ]
    }
   ],
   "source": [
    "public class Account {\n",
    "    // Reference type: The customer's name is a String, stored in the heap\n",
    "    private String name;\n",
    "    \n",
    "    // Primitive type: balance is a double, stored in the stack for local variables, or in the heap if part of an instance\n",
    "    private double balance;\n",
    "    \n",
    "    // Primitive type: accountNumber is an int, stored in the stack for local variables, or in the heap as part of the instance\n",
    "    private int accountNumber;\n",
    "    \n",
    "    // Static variable: shared among all instances of Account, used to create unique account numbers\n",
    "    private static int lastAccountNumber = 1000;\n",
    "    \n",
    "    // Private static: Represents the bank's interest rate, shared across all accounts\n",
    "    private static double interestRate = 0.05; // 5% interest rate\n",
    "\n",
    "    // Constructor to initialize a new account with name and balance\n",
    "    public Account(String name, double balance) {\n",
    "        this.name = name;\n",
    "        this.balance = balance;\n",
    "        this.accountNumber = ++lastAccountNumber; // Generate unique account number\n",
    "    }\n",
    "\n",
    "    // Method to calculate interest and update balance\n",
    "    public void calculateInterest() {\n",
    "        // Calculate interest based on the current balance and static interest rate\n",
    "        double interest = this.balance * interestRate;\n",
    "        this.balance += interest; // Add interest to the current balance\n",
    "    }\n",
    "\n",
    "    // Getter for accountNumber\n",
    "    public int getAccountNumber() {\n",
    "        return accountNumber;\n",
    "    }\n",
    "\n",
    "    // Getter for balance\n",
    "    public double getBalance() {\n",
    "        return balance;\n",
    "    }\n",
    "\n",
    "    // Setter for balance\n",
    "    public void setBalance(double balance) {\n",
    "        this.balance = balance;\n",
    "    }\n",
    "\n",
    "    // Display account details\n",
    "    public void displayAccountInfo() {\n",
    "        System.out.println(\"Account Number: \" + accountNumber);\n",
    "        System.out.println(\"Customer Name: \" + name);\n",
    "        System.out.println(\"Current Balance: $\" + balance);\n",
    "    }\n",
    "\n",
    "    public static void main(String[] args) {\n",
    "        // Create new customer accounts\n",
    "        Account customer1 = new Account(\"Alice\", 1000.00);\n",
    "        Account customer2 = new Account(\"Bob\", 1500.00);\n",
    "        \n",
    "        // Calculate and update balances with interest\n",
    "        customer1.calculateInterest();\n",
    "        customer2.calculateInterest();\n",
    "        \n",
    "        // Display account details\n",
    "        customer1.displayAccountInfo();\n",
    "        customer2.displayAccountInfo();\n",
    "    }\n",
    "}\n",
    "Account.main(null);"
   ]
  }
 ],
 "metadata": {
  "kernelspec": {
   "display_name": "Java",
   "language": "java",
   "name": "java"
  },
  "language_info": {
   "codemirror_mode": "java",
   "file_extension": ".jshell",
   "mimetype": "text/x-java-source",
   "name": "Java",
   "pygments_lexer": "java",
   "version": "17.0.12+7-Ubuntu-1ubuntu224.04"
  }
 },
 "nbformat": 4,
 "nbformat_minor": 2
}
