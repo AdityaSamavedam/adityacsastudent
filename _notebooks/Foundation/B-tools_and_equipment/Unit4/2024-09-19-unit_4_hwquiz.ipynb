{
 "cells": [
  {
   "cell_type": "markdown",
   "metadata": {},
   "source": [
    "---\n",
    "layout: post\n",
    "type: collab\n",
    "title: Unit 4 - HW Quiz\n",
    "description: Unit 4 Team Teach HW QUIZ\n",
    "comments: true\n",
    "permalink: /csa/unit4-p1/unit4-hwquiz\n",
    "menu: nav/CSA_Units/csa_unit4_p1.html\n",
    "author: hanlun, saaras, arthur, miheer, eshaan, beijan\n",
    "---"
   ]
  },
  {
   "cell_type": "markdown",
   "metadata": {},
   "source": [
    "## Unit 4 - Iteration:\n",
    "- This is the homework quiz for unit 4, iterations\n",
    "- 4 multiple choice questions\n",
    "- 2 programming hacks\n",
    "- 1 bonus programming hack (required to get above 0.9)"
   ]
  },
  {
   "cell_type": "markdown",
   "metadata": {},
   "source": [
    "### Question 1:\n",
    "What does the following code print?   \n",
    "\n",
    "A. 5 6 7 8 9   \n",
    "\n",
    "B. 4 5 6 7 8 9 10 11 12   \n",
    "\n",
    "C. 3 5 7 9 11   \n",
    "\n",
    "D. 3 4 5 6 7 8 9 10 11 12   \n",
    "\n",
    "<details>\n",
    "<summary>Click to reveal answer:</summary> \n",
    "  D\n",
    "</details>\n",
    "\n",
    "Explain your answer. (explanation is graded not answer)"
   ]
  },
  {
   "cell_type": "code",
   "execution_count": null,
   "metadata": {},
   "outputs": [],
   "source": [
    "for (int i = 3; i <= 12; i++) {\n",
    "   System.out.print(i + \" \");\n",
    "}"
   ]
  },
  {
   "cell_type": "markdown",
   "metadata": {},
   "source": [
    "The answer is D because the for loop is iterating from the numbers 3 to 12 inclusive and \"i\" is being post-incremented by 1 each time. Therefore it prints out 3 4 5 6 7 8 9 10 11 12"
   ]
  },
  {
   "cell_type": "markdown",
   "metadata": {},
   "source": [
    "### Bonus:\n",
    "- Explain the difference between using a variable like i inside a for loop, vs. using a variable that exists in the code itself for a while loop"
   ]
  },
  {
   "cell_type": "markdown",
   "metadata": {},
   "source": [
    "### Question 2:\n",
    "How many times does the following method print a \"*\" ?\n",
    "\n",
    "A. 9\n",
    "\n",
    "B. 7\n",
    "\n",
    "C. 8\n",
    "\n",
    "D. 6\n",
    "\n",
    "<details>\n",
    "<summary>Click to reveal answer:</summary> \n",
    "  C\n",
    "</details>\n",
    "\n",
    "Explain your answer. (explanation is graded not answer)"
   ]
  },
  {
   "cell_type": "code",
   "execution_count": null,
   "metadata": {},
   "outputs": [],
   "source": [
    "for (int i = 3; i < 11; i++) {\n",
    "   System.out.print(\"*\");\n",
    "}"
   ]
  },
  {
   "cell_type": "markdown",
   "metadata": {},
   "source": [
    "C. It prints out 8 stars because i starts from 3 and ends at 10.<br>10-3+1 = 8."
   ]
  },
  {
   "cell_type": "markdown",
   "metadata": {},
   "source": [
    "### Question 3:\n",
    "What does the following code print?\n",
    "\n",
    "A. -4 -3 -2 -1 0\n",
    "\n",
    "B. -5 -4 -3 -2 -1\n",
    "\n",
    "C. 5 4 3 2 1\n",
    "\n",
    "<details>\n",
    "<summary>Click to reveal answer:</summary> \n",
    "  A\n",
    "</details>\n",
    "\n",
    "Explain your answer. (explanation is graded not answer)"
   ]
  },
  {
   "cell_type": "code",
   "execution_count": null,
   "metadata": {},
   "outputs": [],
   "source": [
    "int x = -5;\n",
    "while (x < 0)\n",
    "{\n",
    "   x++;\n",
    "   System.out.print(x + \" \");\n",
    "}"
   ]
  },
  {
   "cell_type": "markdown",
   "metadata": {},
   "source": [
    "A. x starts at -5 and ends at -1. Since x is incremented by 1 each iteration, it will print out all the numbers from -5 to -1 inclusive.<br>\n",
    "So, the output is: -5 -4 -3 -2 -1"
   ]
  },
  {
   "cell_type": "markdown",
   "metadata": {},
   "source": [
    "### Question 4:\n",
    "What does the following code print?\n",
    "\n",
    "A. 20\n",
    "\n",
    "B. 21\n",
    "\n",
    "C. 25\n",
    "\n",
    "D. 30\n",
    "\n",
    "<details>\n",
    "<summary>Click to reveal answer:</summary> \n",
    "  B\n",
    "</details>\n",
    "\n",
    "Explain your answer. (explanation is graded not answer)"
   ]
  },
  {
   "cell_type": "code",
   "execution_count": null,
   "metadata": {},
   "outputs": [],
   "source": [
    "int sum = 0;\n",
    "\n",
    "for (int i = 1; i <= 5; i++) {\n",
    "    if (i % 2 == 0) {\n",
    "        sum += i * 2;\n",
    "    } else {\n",
    "        sum += i;\n",
    "    }\n",
    "}\n",
    "\n",
    "System.out.println(sum);"
   ]
  },
  {
   "cell_type": "markdown",
   "metadata": {},
   "source": [
    "When i is even, i is doubled and added to the sum.<br>\n",
    "When i is odd, i is just added to the sum normally.<br>\n",
    "When i = 1: it's odd, so sum += 1 → sum = 1.<br>\n",
    "When i = 2: it's even, so sum += 2 * 2 → sum = 1 + 4 = 5.<br>\n",
    "When i = 3: it's odd, so sum += 3 → sum = 5 + 3 = 8.<br>\n",
    "When i = 4: it's even, so sum += 4 * 2 → sum = 8 + 8 = 16.<br>\n",
    "When i = 5: it's odd, so sum += 5 → sum = 16 + 5 = 21. <br>\n",
    "Therefore, the answer is B. 21"
   ]
  },
  {
   "cell_type": "markdown",
   "metadata": {},
   "source": [
    "## Loops HW Hack"
   ]
  },
  {
   "cell_type": "markdown",
   "metadata": {},
   "source": [
    "### Easy Hack\n",
    "- Use a while loop to find the numbers from 1-50 that are divisible by 3 or 5, then store them into a list (make sure to print it out at the end)\n",
    "- Use a for loop to do the same thing detailed above"
   ]
  },
  {
   "cell_type": "code",
   "execution_count": 4,
   "metadata": {},
   "outputs": [
    {
     "name": "stdout",
     "output_type": "stream",
     "text": [
      "Numbers divisible by 3 or 5 (while loop): [3, 5, 6, 9, 10, 12, 15, 18, 20, 21, 24, 25, 27, 30, 33, 35, 36, 39, 40, 42, 45, 48, 50]\n"
     ]
    }
   ],
   "source": [
    "// Using while loop:\n",
    "import java.util.ArrayList;\n",
    "\n",
    "public class myWhileLoop {\n",
    "    public static void main(String[] args) {\n",
    "        ArrayList<Integer> divisibleBy3Or5 = new ArrayList<>();\n",
    "        int i = 1;\n",
    "\n",
    "        while (i <= 50) {\n",
    "            if (i % 3 == 0 || i % 5 == 0) {\n",
    "                divisibleBy3Or5.add(i);\n",
    "            }\n",
    "            i++;\n",
    "        }\n",
    "\n",
    "        System.out.println(\"Numbers divisible by 3 or 5 (while loop): \" + divisibleBy3Or5);\n",
    "    }\n",
    "}\n",
    "myWhileLoop.main(null);"
   ]
  },
  {
   "cell_type": "code",
   "execution_count": 5,
   "metadata": {},
   "outputs": [
    {
     "name": "stdout",
     "output_type": "stream",
     "text": [
      "Numbers divisible by 3 or 5 (for loop): [3, 5, 6, 9, 10, 12, 15, 18, 20, 21, 24, 25, 27, 30, 33, 35, 36, 39, 40, 42, 45, 48, 50]\n"
     ]
    }
   ],
   "source": [
    "// Using a for loop\n",
    "import java.util.ArrayList;\n",
    "\n",
    "public class myForLoop {\n",
    "    public static void main(String[] args) {\n",
    "        ArrayList<Integer> divisibleBy3Or5 = new ArrayList<>();\n",
    "\n",
    "        for (int i = 1; i <= 50; i++) {\n",
    "            if (i % 3 == 0 || i % 5 == 0) {\n",
    "                divisibleBy3Or5.add(i);\n",
    "            }\n",
    "        }\n",
    "\n",
    "        System.out.println(\"Numbers divisible by 3 or 5 (for loop): \" + divisibleBy3Or5);\n",
    "    }\n",
    "}\n",
    "myForLoop.main(null);"
   ]
  },
  {
   "cell_type": "markdown",
   "metadata": {},
   "source": [
    "### Harder Hack\n",
    "#### Palindromes are numbers that have the same value when reversed (ex: “123321” or “323”). Create a program that uses a while loop that outputs all palindromes in any given list. \n",
    "\n",
    "Sample Input: \n",
    "test_list = [5672, 235, 5537, 6032, 317, 8460, 1672, 8104, 7770, 4442, 913, 2508, 1116, 9969, 9091, 522, 8756, 9527, 7968, 1520, 4444, 515, 2882, 6556, 595]\n",
    "\n",
    "Sample Output:\n",
    "4444, 515, 2882, 6556, 595"
   ]
  },
  {
   "cell_type": "code",
   "execution_count": 6,
   "metadata": {},
   "outputs": [],
   "source": [
    "import java.util.ArrayList;\n",
    "import java.util.List;\n",
    "\n",
    "public class PalindromeFinder {\n",
    "    public static void main(String[] args) {\n",
    "        // Sample Input\n",
    "        int[] testList = {5672, 235, 5537, 6032, 317, 8460, 1672, 8104, 7770, 4442, \n",
    "                          913, 2508, 1116, 9969, 9091, 522, 8756, 9527, 7968, \n",
    "                          1520, 4444, 515, 2882, 6556, 595};\n",
    "\n",
    "        // List to store palindromes\n",
    "        List<Integer> palindromes = new ArrayList<>();\n",
    "\n",
    "        int index = 0;\n",
    "        while (index < testList.length) {\n",
    "            if (isPalindrome(testList[index])) {\n",
    "                palindromes.add(testList[index]);\n",
    "            }\n",
    "            index++;\n",
    "        }\n",
    "\n",
    "        // Output the result\n",
    "        System.out.println(palindromes);\n",
    "    }\n",
    "\n",
    "    // Function to check if a number is a palindrome\n",
    "    public static boolean isPalindrome(int num) {\n",
    "        String strNum = String.valueOf(num);\n",
    "        String reversedStrNum = new StringBuilder(strNum).reverse().toString();\n",
    "        return strNum.equals(reversedStrNum);\n",
    "    }\n",
    "}"
   ]
  },
  {
   "cell_type": "markdown",
   "metadata": {},
   "source": [
    "## Bonus Hack (for above 0.9)\n",
    "### Use a for loop to output a spiral matrix with size n\n",
    "Example:\n",
    "\n",
    "Sample Input: n = 3\n",
    "\n",
    "Output: [[1, 2, 3], [8, 9, 4], [7, 6, 5]]"
   ]
  },
  {
   "cell_type": "code",
   "execution_count": 8,
   "metadata": {},
   "outputs": [
    {
     "name": "stdout",
     "output_type": "stream",
     "text": [
      "[1, 2, 3]\n",
      "[8, 9, 4]\n",
      "[7, 6, 5]\n"
     ]
    }
   ],
   "source": [
    "public class SpiralMatrix {\n",
    "    public static void main(String[] args) {\n",
    "        // Sample Input\n",
    "        int n = 3;\n",
    "\n",
    "        // Generate the spiral matrix\n",
    "        int[][] spiralMatrix = generateSpiralMatrix(n);\n",
    "\n",
    "        // Output the result\n",
    "        printMatrix(spiralMatrix);\n",
    "    }\n",
    "\n",
    "    public static int[][] generateSpiralMatrix(int n) {\n",
    "        int[][] matrix = new int[n][n]; // Initialize the n x n matrix\n",
    "        int top = 0, bottom = n - 1, left = 0, right = n - 1; // Boundaries\n",
    "        int num = 1; // Starting number\n",
    "\n",
    "        while (top <= bottom && left <= right) {\n",
    "            // Traverse from left to right\n",
    "            for (int i = left; i <= right; i++) {\n",
    "                matrix[top][i] = num++;\n",
    "            }\n",
    "            top++; // Move the top boundary down\n",
    "\n",
    "            // Traverse from top to bottom\n",
    "            for (int i = top; i <= bottom; i++) {\n",
    "                matrix[i][right] = num++;\n",
    "            }\n",
    "            right--; // Move the right boundary left\n",
    "\n",
    "            // Traverse from right to left (if applicable)\n",
    "            if (top <= bottom) {\n",
    "                for (int i = right; i >= left; i--) {\n",
    "                    matrix[bottom][i] = num++;\n",
    "                }\n",
    "                bottom--; // Move the bottom boundary up\n",
    "            }\n",
    "\n",
    "            // Traverse from bottom to top (if applicable)\n",
    "            if (left <= right) {\n",
    "                for (int i = bottom; i >= top; i--) {\n",
    "                    matrix[i][left] = num++;\n",
    "                }\n",
    "                left++; // Move the left boundary right\n",
    "            }\n",
    "        }\n",
    "        return matrix;\n",
    "    }\n",
    "\n",
    "    public static void printMatrix(int[][] matrix) {\n",
    "        for (int[] row : matrix) {\n",
    "            System.out.print(\"[\");\n",
    "            for (int j = 0; j < row.length; j++) {\n",
    "                System.out.print(row[j]);\n",
    "                if (j < row.length - 1) {\n",
    "                    System.out.print(\", \");\n",
    "                }\n",
    "            }\n",
    "            System.out.println(\"]\");\n",
    "        }\n",
    "    }\n",
    "}\n",
    "SpiralMatrix.main(null);"
   ]
  }
 ],
 "metadata": {
  "kernelspec": {
   "display_name": "Java",
   "language": "java",
   "name": "java"
  },
  "language_info": {
   "codemirror_mode": "java",
   "file_extension": ".jshell",
   "mimetype": "text/x-java-source",
   "name": "java",
   "pygments_lexer": "java",
   "version": "17.0.12+7-Ubuntu-1ubuntu224.04"
  }
 },
 "nbformat": 4,
 "nbformat_minor": 2
}
