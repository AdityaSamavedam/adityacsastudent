{
 "cells": [
  {
   "cell_type": "markdown",
   "metadata": {
    "vscode": {
     "languageId": "raw"
    }
   },
   "source": [
    "---\n",
    "layout: post\n",
    "title: 'Team Teach for Unit 6: Arrays'\n",
    "description: Arrays\n",
    "categories: [CSA-Quiz]\n",
    "permalink: /csa/units/unit6teamteach\n",
    "menu: nav/CSA_Units/csa_unit1.html\n",
    "author: Aditya Samavedam, Akhil Singamneni, Nitin Balaji, Srinivas Nampalli\n",
    "---"
   ]
  },
  {
   "cell_type": "markdown",
   "metadata": {},
   "source": [
    "# Intro to Arrays"
   ]
  },
  {
   "cell_type": "markdown",
   "metadata": {
    "vscode": {
     "languageId": "raw"
    }
   },
   "source": [
    "#### What are arrays?"
   ]
  },
  {
   "cell_type": "markdown",
   "metadata": {
    "vscode": {
     "languageId": "raw"
    }
   },
   "source": [
    "They are data structures used to implement a collection of primitive or object reference data. An array in Java is basically like a list in python, but they are only allowed to store values of one data type."
   ]
  },
  {
   "cell_type": "markdown",
   "metadata": {
    "vscode": {
     "languageId": "raw"
    }
   },
   "source": [
    "Each value in the array is called an \"element\""
   ]
  },
  {
   "cell_type": "markdown",
   "metadata": {},
   "source": [
    "The position of an element in the array is called an \"index\".\n",
    "Just like in Python, the first element of an array always has an index of zero."
   ]
  },
  {
   "cell_type": "markdown",
   "metadata": {
    "vscode": {
     "languageId": "raw"
    }
   },
   "source": [
    "The `length` of an array is how many elements there are in the array."
   ]
  },
  {
   "cell_type": "markdown",
   "metadata": {},
   "source": [
    "`length` has the dataype `public final`\n",
    "- we can access the length in any class since it's `public`\n",
    "- also, we can't change the array's length after it's been created since the length is `final`"
   ]
  },
  {
   "cell_type": "markdown",
   "metadata": {
    "vscode": {
     "languageId": "java"
    }
   },
   "source": [
    "#### Example"
   ]
  },
  {
   "cell_type": "code",
   "execution_count": 1,
   "metadata": {
    "vscode": {
     "languageId": "java"
    }
   },
   "outputs": [],
   "source": [
    "int [] array1 = new int[5]"
   ]
  },
  {
   "cell_type": "markdown",
   "metadata": {},
   "source": [
    "The above code cell defines the array with:\n",
    "- the name `array1`\n",
    "- the datatype `int` (means that only integer values can go in the array)\n",
    "- the number of elements in the array is five, as shown by `int[5]`\n",
    "- all the 5 elements in the array have a value of zero, because the elements weren't specified"
   ]
  },
  {
   "cell_type": "markdown",
   "metadata": {},
   "source": [
    "## Question: How would you find the index of the last element of the array, if you didn't know how many elements there were in the array?"
   ]
  },
  {
   "cell_type": "markdown",
   "metadata": {
    "vscode": {
     "languageId": "java"
    }
   },
   "source": [
    "Answer: `array_name.length - 1`"
   ]
  },
  {
   "cell_type": "markdown",
   "metadata": {},
   "source": [
    "We have to subtract 1 from the array's length because the indexes start from zero. If there are 5 elements in the array, then the index of the last element is 5 - 1 = **4**"
   ]
  },
  {
   "cell_type": "markdown",
   "metadata": {},
   "source": [
    "### Remember, unlike python, negative indexing does not work in Java and it will result in an error !!!"
   ]
  },
  {
   "cell_type": "code",
   "execution_count": 2,
   "metadata": {
    "vscode": {
     "languageId": "java"
    }
   },
   "outputs": [],
   "source": [
    "// int [] array2 = {1,2,3,4,5};\n",
    "// System.out.println(array2[-1]);"
   ]
  },
  {
   "cell_type": "markdown",
   "metadata": {
    "vscode": {
     "languageId": "java"
    }
   },
   "source": [
    "### Primitive Elements"
   ]
  },
  {
   "cell_type": "markdown",
   "metadata": {},
   "source": [
    "Now, let's go back to array1 and modify some stuff."
   ]
  },
  {
   "cell_type": "code",
   "execution_count": 3,
   "metadata": {
    "vscode": {
     "languageId": "java"
    }
   },
   "outputs": [
    {
     "name": "stdout",
     "output_type": "stream",
     "text": [
      "0\n"
     ]
    }
   ],
   "source": [
    "System.out.println(array1[4]); // 5th element of the array"
   ]
  },
  {
   "cell_type": "markdown",
   "metadata": {},
   "source": [
    "As you can see, it returns zero because when we defined the array, we used `new`, which made all the elements have the value of zero. Now, let's change it."
   ]
  },
  {
   "cell_type": "code",
   "execution_count": 4,
   "metadata": {
    "vscode": {
     "languageId": "java"
    }
   },
   "outputs": [
    {
     "name": "stdout",
     "output_type": "stream",
     "text": [
      "30\n"
     ]
    }
   ],
   "source": [
    "array1[4] = 30;\n",
    "System.out.println(array1[4]);"
   ]
  },
  {
   "cell_type": "markdown",
   "metadata": {
    "vscode": {
     "languageId": "java"
    }
   },
   "source": [
    "We successfully changed the fifth element from zero to thirty."
   ]
  },
  {
   "cell_type": "markdown",
   "metadata": {},
   "source": [
    "Putting the name of the array in the print statement in Java outputs the memory reference of the array and not the elements of the array.\n",
    "Below is a great way to print out the array."
   ]
  },
  {
   "cell_type": "code",
   "execution_count": 5,
   "metadata": {
    "vscode": {
     "languageId": "java"
    }
   },
   "outputs": [
    {
     "name": "stdout",
     "output_type": "stream",
     "text": [
      "[I@21b7c56f\n"
     ]
    }
   ],
   "source": [
    "System.out.println(array1)"
   ]
  },
  {
   "cell_type": "code",
   "execution_count": 6,
   "metadata": {
    "vscode": {
     "languageId": "java"
    }
   },
   "outputs": [
    {
     "name": "stdout",
     "output_type": "stream",
     "text": [
      "[0, 0, 0, 0, 30]\n"
     ]
    }
   ],
   "source": [
    "System.out.println(Arrays.toString(array1));"
   ]
  },
  {
   "cell_type": "markdown",
   "metadata": {},
   "source": [
    "### Mutable Elements"
   ]
  },
  {
   "cell_type": "code",
   "execution_count": 7,
   "metadata": {
    "vscode": {
     "languageId": "java"
    }
   },
   "outputs": [],
   "source": [
    "public class Mutable{\n",
    "    private int value;\n",
    "    public Mutable(int start) {\n",
    "        value = start;\n",
    "    }\n",
    "    public void incrementValue() {\n",
    "        value++;\n",
    "    }\n",
    "    public int getValue() {\n",
    "        return value;\n",
    "    }\n",
    "}"
   ]
  },
  {
   "cell_type": "code",
   "execution_count": 8,
   "metadata": {
    "vscode": {
     "languageId": "java"
    }
   },
   "outputs": [
    {
     "name": "stdout",
     "output_type": "stream",
     "text": [
      "30\n",
      "33\n",
      "null\n"
     ]
    }
   ],
   "source": [
    "Mutable[] array3; //initialize array of mutable objects\n",
    "array3 = new Mutable[3]; //set size of array3 equal to three\n",
    "array3[1] = new Mutable(33); //assigning the number 33 to the second element\n",
    "array3[0] = new Mutable(array3[1].getValue() - 3); //assigning the second element's value minus three to the first element aka the number 30\n",
    "for (Mutable m : array3) { //printing out the values of the array using for loop\n",
    "    if (m != null) {\n",
    "        System.out.println(m.getValue());\n",
    "    } else {\n",
    "        System.out.println(\"null\");\n",
    "    }\n",
    "}"
   ]
  },
  {
   "cell_type": "markdown",
   "metadata": {},
   "source": [
    "**Important**: When the array is initialized (you're not providing any values to it):\n",
    "- int elements are set to `0`\n",
    "- reference type elements are set to `null`\n",
    "- double elements are set to `0.0`\n",
    "- boolean elements are set to `false`"
   ]
  }
 ],
 "metadata": {
  "kernelspec": {
   "display_name": "Java",
   "language": "java",
   "name": "java"
  },
  "language_info": {
   "codemirror_mode": "java",
   "file_extension": ".jshell",
   "mimetype": "text/x-java-source",
   "name": "Java",
   "pygments_lexer": "java",
   "version": "17.0.12+7-Ubuntu-1ubuntu224.04"
  }
 },
 "nbformat": 4,
 "nbformat_minor": 2
}
