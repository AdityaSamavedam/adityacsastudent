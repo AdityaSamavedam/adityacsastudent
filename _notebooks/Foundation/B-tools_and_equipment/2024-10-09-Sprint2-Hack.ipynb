{
 "cells": [
  {
   "cell_type": "markdown",
   "metadata": {},
   "source": [
    "---\n",
    "layout: post\n",
    "title: Sprint 2 Hacks\n",
    "description: A mini project I made that covers all the topics in Sprint 2, and key points to remember for each collegeboard topic\n",
    "hide: true\n",
    "permalink: /sprint2hacks\n",
    "---"
   ]
  },
  {
   "cell_type": "code",
   "execution_count": 1,
   "metadata": {
    "vscode": {
     "languageId": "java"
    }
   },
   "outputs": [
    {
     "name": "stdout",
     "output_type": "stream",
     "text": [
      "To Kill a Mockingbird by Harper Lee\n",
      "1984 by George Orwell\n",
      "To Kill a Mockingbird by Harper Lee\n"
     ]
    }
   ],
   "source": [
    "import java.util.ArrayList;\n",
    "\n",
    "// 5. Classes - Defines the class 'Book' with attributes and methods.\n",
    "public class Book {\n",
    "    // 1. Primitive/Object types - 'title' and 'author' are Strings (object type), 'isbn' is an int (primitive type), 'available' is a boolean (primitive type).\n",
    "    String title;\n",
    "    String author;\n",
    "    int isbn;\n",
    "    boolean available;\n",
    "\n",
    "    // Constructor to initialize Book object\n",
    "    public Book(String title, String author, int isbn) {\n",
    "        this.title = title;\n",
    "        this.author = author;\n",
    "        this.isbn = isbn;\n",
    "        this.available = true; // By default, the book is available when created.\n",
    "    }\n",
    "\n",
    "    // Method to check if the book is available (returns a boolean)\n",
    "    public boolean isAvailable() {\n",
    "        return available;\n",
    "    }\n",
    "\n",
    "    // Method to change the availability of the book\n",
    "    public void setAvailability(boolean status) {\n",
    "        this.available = status;\n",
    "    }\n",
    "}\n",
    "\n",
    "// 5. Classes - Defines the base class 'Person' which will be inherited.\n",
    "public class Person {\n",
    "    String name;\n",
    "    int id;  // 1. Primitive type: 'id' is an int\n",
    "\n",
    "    // Constructor to initialize Person object\n",
    "    public Person(String name, int id) {\n",
    "        this.name = name;\n",
    "        this.id = id;\n",
    "    }\n",
    "}\n",
    "\n",
    "// 9. Inheritance - 'User' class inherits attributes and methods from 'Person'.\n",
    "public class User extends Person {\n",
    "    // 7. ArrayList - Uses an ArrayList to store borrowed books.\n",
    "    ArrayList<Book> borrowedBooks = new ArrayList<>();\n",
    "    \n",
    "    // Constructor for User\n",
    "    public User(String name, int id) {\n",
    "        super(name, id);  // Calls the constructor of the parent class 'Person'.\n",
    "    }\n",
    "    \n",
    "    // Method to borrow a book\n",
    "    public void borrowBook(Book book) {\n",
    "        // 3. If/else conditions - Checks if the book is available before borrowing.\n",
    "        if (book.isAvailable()) {\n",
    "            borrowedBooks.add(book);  // 2. Using objects - Adds the 'book' object to the 'borrowedBooks' ArrayList.\n",
    "            book.setAvailability(false);  // Marks the book as unavailable.\n",
    "        } else {\n",
    "            System.out.println(\"Book is not available.\");\n",
    "        }\n",
    "    }\n",
    "\n",
    "    // Method to return a book\n",
    "    public void returnBook(Book book) {\n",
    "        borrowedBooks.remove(book);  // Removes the book from the borrowed list.\n",
    "        book.setAvailability(true);  // Marks the book as available again.\n",
    "    }\n",
    "}\n",
    "\n",
    "// 5. Classes - Defines the 'Library' class that manages books and users.\n",
    "public class Library {\n",
    "    // 6. Arrays and 7. ArrayList - Manages books and users using ArrayLists.\n",
    "    ArrayList<Book> books = new ArrayList<>();\n",
    "    ArrayList<User> users = new ArrayList<>();\n",
    "\n",
    "    // Method to add a book to the library\n",
    "    public void addBook(Book book) {\n",
    "        books.add(book);  // Adds the book to the 'books' ArrayList.\n",
    "    }\n",
    "\n",
    "    // Method to add a user to the library system\n",
    "    public void addUser(User user) {\n",
    "        users.add(user);  // Adds the user to the 'users' ArrayList.\n",
    "    }\n",
    "\n",
    "    // Method to display available books\n",
    "    public void displayAvailableBooks() {\n",
    "        // 4. Iteration - Iterates over the 'books' ArrayList to check which books are available.\n",
    "        for (Book book : books) {\n",
    "            if (book.isAvailable()) {  // 3. If/else conditions - Checks if the book is available.\n",
    "                System.out.println(book.title + \" by \" + book.author);  // Displays available books.\n",
    "            }\n",
    "        }\n",
    "    }\n",
    "}\n",
    "\n",
    "// 5. Classes - Defines the main class to run the system.\n",
    "public class myLibrary {\n",
    "\n",
    "    public static void main(String[] args) {\n",
    "        // Initialize Library, Books, and Users\n",
    "        Library library = new Library();\n",
    "\n",
    "        // 2. Using objects - Creating book objects and adding them to the library.\n",
    "        Book book1 = new Book(\"1984\", \"George Orwell\", 101);\n",
    "        Book book2 = new Book(\"To Kill a Mockingbird\", \"Harper Lee\", 102);\n",
    "        library.addBook(book1);\n",
    "        library.addBook(book2);\n",
    "\n",
    "        // 2. Using objects - Creating a user and adding it to the library.\n",
    "        User user1 = new User(\"Aditya\", 1);\n",
    "        library.addUser(user1);\n",
    "\n",
    "        // Borrow and Return book operations\n",
    "        user1.borrowBook(book1);  // Borrow a book.\n",
    "        library.displayAvailableBooks();  // Displays available books after borrowing.\n",
    "\n",
    "        user1.returnBook(book1);  // Return the borrowed book.\n",
    "        library.displayAvailableBooks();  // Displays available books after returning.\n",
    "    }\n",
    "}\n",
    "myLibrary.main(null);  // Runs the main method."
   ]
  },
  {
   "cell_type": "markdown",
   "metadata": {},
   "source": [
    "# Unit 1"
   ]
  },
  {
   "cell_type": "markdown",
   "metadata": {},
   "source": [
    "Key points:\n",
    "- Primitive Types: int, char, double, boolean (lowercase letters)\n",
    "- Reference Types: Arrays, Strings, Objects, Classes (starts w/ uppercase letter)\n",
    "- Wrapper Classes: wraps primitive type & makes it into an object rather than a primitive\n",
    "- Memory Allocation:\n",
    "    - Stack Memory: stores temp variables created by each function (primitive datatypes and references to objects)\n",
    "        - allocated in LIFO manner: (last in first out)\n",
    "    - Heap Memory: region of memory used for dynamic memory allocation (stores object and arrays)\n",
    "- Passing primitives to a method = WILL NOT change the caller's value.\n",
    "- Wrapping the primitive in a reference type = you can change the original."
   ]
  },
  {
   "cell_type": "markdown",
   "metadata": {},
   "source": [
    "# Unit 2"
   ]
  },
  {
   "cell_type": "markdown",
   "metadata": {},
   "source": [
    "Key points:\n",
    "\n",
    "- Object: made from class\n",
    "- Classes: groups attributes together, object is created from the class\n",
    "    - Acts as a blueprint for objects\n",
    "    - Constructor: special function used to create new instance\n",
    "    - New keyword: creates a new object from the class\n",
    "    - This keyword: access class variables from inside the class\n",
    "    - Void methods: no return type\n",
    "- Method signature: piece of code which lists how method should act before specific code is given to it\n",
    "- Java Method Parameter Method\n",
    "    - RULE 1 - passed in order\n",
    "    - RULE 2 - separated by comma\n",
    "    - RULE 3 - include datatype specification & name\n",
    "    - RULE 4 - referenced by their names inside method\n",
    "- Non Void Method returns defined type (int, string, char, etc)\n",
    "- Backward slash: \"\\\\\" is escape sequence for formatting purposes\n",
    "- String methods: length, substring, indexOf, equals, compareTo\n",
    "- Wrapper Classes: wraps primitive type & makes it into an object rather than a primitive"
   ]
  },
  {
   "cell_type": "markdown",
   "metadata": {},
   "source": [
    "# Unit 3"
   ]
  },
  {
   "cell_type": "markdown",
   "metadata": {},
   "source": [
    "- Java Relational Operators:\n",
    "    - equal to: ==\n",
    "    - not equal to: !=\n",
    "    - less than: <\n",
    "    - greater than: >\n",
    "    - less than or equal to: <=\n",
    "    - greater than or equal to >=\n",
    "- Else statement purpose: handles what happens if condition is false\n",
    "    - If-Else statement structure:\n",
    "        if (condition) {\n",
    "            // do something\n",
    "        }\n",
    "        else:\n",
    "            // do something else\n",
    "- Else If statements purpose: handling multiple conditions\n",
    "- Nested Conditional statement: statement inside statement\n",
    "- Compound Conditional statement: 2 or more conditions are combined into a single if statement (using logical operators)\n",
    "- && (AND): (returns true only if both conditions are true)\n",
    "- || (OR): (returns true if at least one condition is true)\n",
    "- ! (NOT): Negation of statement"
   ]
  },
  {
   "cell_type": "markdown",
   "metadata": {},
   "source": [
    "# Unit 4"
   ]
  },
  {
   "cell_type": "markdown",
   "metadata": {},
   "source": [
    "- While loops: run until condition is false\n",
    "    - Syntax:\n",
    "    while (i < value) {\n",
    "        // do something\n",
    "        i++;\n",
    "    }\n",
    "- Similarly, for loops run until condition is false\n",
    "    - Syntax:\n",
    "    for (i = minValue,i < maxValue, i++) {\n",
    "        // do something\n",
    "    }\n",
    "- For each loop: used for iterating through items in a list:\n",
    "    - Syntax:\n",
    "    for (int element : list) {\n",
    "        // do something\n",
    "    }\n",
    "- Iteration of index through string requires charAt(i)\n",
    "- substring method divides string at provided starting/ending index values\n",
    "- .split() splits a string into array based on what is provided in the argument and where it occurs in the string."
   ]
  },
  {
   "cell_type": "markdown",
   "metadata": {},
   "source": [
    "# Unit 5"
   ]
  },
  {
   "cell_type": "markdown",
   "metadata": {},
   "source": [
    "- Class Declaration: starting point of any class. Includes class keyword, class name, and access modifiers.\n",
    "- Instance Variables: attributes of class, declared inside class but outside any methods, normally set as private\n",
    "- Constructor: special method called when an object is instantiated, no return type\n",
    "    - Default constructor: constructor w/o parameters, defined by compiler automatically if not defined\n",
    "    - Overloaded constructor/Parameterized constructor: constructor that accepts parameters to initialize fields\n",
    "    - No-arg constructor: no parameters, defined by a programmer\n",
    "- Methods: define behaviors of class:\n",
    "    - Accessor: (getters): retrieve field values\n",
    "        - allows other objects to obtain the value of instance or static variables\n",
    "        - toString accessor Method: overriden method used to provide description of an object\n",
    "    - Mutator: (setters): modify/set field values\n",
    "- Types of methods:\n",
    "    - Instance Methods: Methods that belong to an instance of a class Instance methods require an object of the class to be used. They operate on objects of the class.\n",
    "    - Can access instance variables and other instance methods within the class\n",
    "    - Can access static variables and methods\n",
    "- \"this\" keyword: references object itself or object's instance variables, methods, constructors, etc."
   ]
  },
  {
   "cell_type": "markdown",
   "metadata": {},
   "source": [
    "# Unit 6"
   ]
  },
  {
   "cell_type": "markdown",
   "metadata": {},
   "source": [
    "- Arrays: collection of primitive or object reference data\n",
    "    - length has datatype public final because it can be accessed anywhere and cannot be changed\n",
    "    - negative indexing does not work in Java\n",
    "    - cannot add or remove elements\n",
    "    - updating element values is allowed\n",
    "    - default values when an array is instantiated\n",
    "- You can traverse through arrays using for loop or for each loop:\n",
    "    - Syntax for \"for\" loop:\n",
    "    for (int i = 0, i < array.length, i++) {\n",
    "        System.out.println(i);\n",
    "    }\n",
    "    - Syntax for \"for each\" or \"enhanced for\" loop:\n",
    "    for (i : array) {\n",
    "        System.out.println(i);\n",
    "    }\n",
    "- Can traverse using while loops as well"
   ]
  },
  {
   "cell_type": "markdown",
   "metadata": {},
   "source": [
    "# Unit 7"
   ]
  },
  {
   "cell_type": "markdown",
   "metadata": {
    "vscode": {
     "languageId": "java"
    }
   },
   "source": [
    "- ArrayList: resizeable array, can add or remove elements since length is not final\n",
    "- Requires use of import statement: import java.util.ArrayList;\n",
    "- Initializing ArrayList example: ArrayList<Integer> numbersList = new ArrayList<>();\n",
    "- methods such as size, add, get, set, remove\n",
    "- traverse with for loop, enhanced for loop, while loop\n",
    "- Linear searching: iterates through whole list until target is found\n",
    "- Selection sort: identifies either the maximum or minimum of the compared values and iterates over the structure checking if the item stored at the index matches that condition, if so, it will swap the value stored at that index and continue\n",
    "- Insertion sort: inserts each value it finds at the appropriate location in the data structure"
   ]
  },
  {
   "cell_type": "markdown",
   "metadata": {},
   "source": [
    "# Unit 8"
   ]
  },
  {
   "cell_type": "markdown",
   "metadata": {},
   "source": [
    "- 2D array: array of arrays, created & indexed similar to 1D array\n",
    "- Declaration of 2D array: int[][] 2DArrayName = new datatype[# of rows][# of columns]\n",
    "- Use curly braces if you want to actually put values in the 2D array\n",
    "- Each row of 2D array has its own initializer list\n",
    "- Traversing 2D arrays:\n",
    "    - requires use of nested loops\n",
    "    - outer for loop: iterates through rows\n",
    "    - inner for loop: iterates through each value in the row\n",
    "- Linear searching: iterates through whole list until target is found\n",
    "- Binary searching: divide list repeatedtly in half (lower and upper half) until element is found, requires less steps than linear search\n",
    "- Global sorting steps:\n",
    "    - create 2D array\n",
    "    - flatten 2D array (use nested loops to copy elements from 2D array into 1D array)\n",
    "    - sort 1D array\n",
    "    - reshape back into 2D array\n",
    "    - print out 2D array"
   ]
  },
  {
   "cell_type": "markdown",
   "metadata": {},
   "source": [
    "# Unit 9"
   ]
  },
  {
   "cell_type": "markdown",
   "metadata": {},
   "source": [
    "- Inheritance Basics: Allows subclass to inherit properties and behaviors from superclass; promotes code reuse.\n",
    "- Superclass: Parent class; provides attributes and methods to subclasses.\n",
    "- Subclass: Inherits from superclass; can extend or override methods, add new attributes.\n",
    "- Method Overriding: Subclass modifies inherited methods from the superclass.\n",
    "- Polymorphism: Subclass objects treated as superclass instances; dynamic method calls at runtime.\n",
    "- super Keyword: Refers to superclass; used to access superclass constructor or overridden methods.\n",
    "- Object Class: Root of Java class hierarchy; all classes inherit from it.\n",
    "- Class Hierarchies: Multi-level inheritance creates complex class relationships.\n",
    "- Overriding vs Overloading: Overriding changes method behavior in subclass; overloading uses same method name with different parameters."
   ]
  }
 ],
 "metadata": {
  "kernelspec": {
   "display_name": "Java",
   "language": "java",
   "name": "java"
  },
  "language_info": {
   "codemirror_mode": "java",
   "file_extension": ".jshell",
   "mimetype": "text/x-java-source",
   "name": "Java",
   "pygments_lexer": "java",
   "version": "17.0.12+7-Ubuntu-1ubuntu224.04"
  }
 },
 "nbformat": 4,
 "nbformat_minor": 2
}
