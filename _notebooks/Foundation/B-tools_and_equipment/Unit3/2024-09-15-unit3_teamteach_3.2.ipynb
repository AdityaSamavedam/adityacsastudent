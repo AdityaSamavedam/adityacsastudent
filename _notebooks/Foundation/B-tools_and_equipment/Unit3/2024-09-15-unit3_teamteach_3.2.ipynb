{
 "cells": [
  {
   "cell_type": "raw",
   "metadata": {
    "vscode": {
     "languageId": "raw"
    }
   },
   "source": [
    "---\n",
    "layout: post\n",
    "title: Unit 3 Team Teach - 3.2\n",
    "description: Unit 3 Team Teach\n",
    "comments: true\n",
    "menu: nav/CSA_Units/csa_unit3_p1.html\n",
    "permalink: /csa/unit3-p1/unit3-2\n",
    "author: Alisha Hussain, Anika Bhatnagar, Kayden Le, Sharon Kodali\n",
    "---"
   ]
  },
  {
   "cell_type": "markdown",
   "metadata": {},
   "source": [
    "# 3.2 If Statements and Control Flow\n",
    "<a id=\"if-statements\"></a>\n",
    "\n",
    "<img width=\"322\" alt=\"Screenshot 2024-09-16 at 8 07 34 AM\" src=\"https://github.com/user-attachments/assets/4409a622-5497-4495-b23c-ad25597e80bf\">\n",
    "<img width=\"319\" alt=\"Screenshot 2024-09-16 at 8 07 41 AM\" src=\"https://github.com/user-attachments/assets/25c381e4-e5c9-47dc-aaa5-d3892d5b8738\">\n"
   ]
  },
  {
   "cell_type": "markdown",
   "metadata": {},
   "source": [
    "### popcorn hack\n",
    "create test cases that do not satisy the condition above. you can copy/paste the code into the new code cell"
   ]
  },
  {
   "cell_type": "code",
   "execution_count": 1,
   "metadata": {},
   "outputs": [],
   "source": [
    "public static void main(String[] args) {\n",
    "    int myAge = 16;\n",
    "    System.out.println(\"Current age: \" + myAge);\n",
    "    \n",
    "    if (myAge >= 16) {\n",
    "        System.out.println(\"You can start learning to drive!\");\n",
    "    }\n",
    "\n",
    "    System.out.println(\"On your next birthday, you will be \" + (myAge + 1) + \" years old!\");\n",
    "}"
   ]
  },
  {
   "cell_type": "code",
   "execution_count": 4,
   "metadata": {},
   "outputs": [
    {
     "name": "stdout",
     "output_type": "stream",
     "text": [
      "Test Case 1 - Current age: 15\n",
      "On your next birthday, you will be 16 years old!\n",
      "Test Case 2 - Current age: 14\n",
      "On your next birthday, you will be 15 years old!\n",
      "Test Case 3 - Current age: 10\n",
      "On your next birthday, you will be 11 years old!\n"
     ]
    }
   ],
   "source": [
    "public class MyProgram {\n",
    "    public static void main(String[] args) {\n",
    "        // Test case 1: Age less than 16\n",
    "        int myAge1 = 15;\n",
    "        System.out.println(\"Test Case 1 - Current age: \" + myAge1);\n",
    "        \n",
    "        if (myAge1 >= 16) {\n",
    "            System.out.println(\"You can start learning to drive!\");\n",
    "        }\n",
    "    \n",
    "        System.out.println(\"On your next birthday, you will be \" + (myAge1 + 1) + \" years old!\");\n",
    "        \n",
    "        // Test case 2: Age less than 16\n",
    "        int myAge2 = 14;\n",
    "        System.out.println(\"Test Case 2 - Current age: \" + myAge2);\n",
    "        \n",
    "        if (myAge2 >= 16) {\n",
    "            System.out.println(\"You can start learning to drive!\");\n",
    "        }\n",
    "    \n",
    "        System.out.println(\"On your next birthday, you will be \" + (myAge2 + 1) + \" years old!\");\n",
    "    \n",
    "        // Test case 3: Age less than 16\n",
    "        int myAge3 = 10;\n",
    "        System.out.println(\"Test Case 3 - Current age: \" + myAge3);\n",
    "        \n",
    "        if (myAge3 >= 16) {\n",
    "            System.out.println(\"You can start learning to drive!\");\n",
    "        }\n",
    "    \n",
    "        System.out.println(\"On your next birthday, you will be \" + (myAge3 + 1) + \" years old!\");\n",
    "    }\n",
    "}\n",
    "\n",
    "// Call the main method\n",
    "MyProgram.main(null);"
   ]
  },
  {
   "cell_type": "markdown",
   "metadata": {},
   "source": [
    "If statements can be used to create chatbots \n",
    "--> Magpie Lab\n",
    "<img width=\"697\" alt=\"Screenshot 2024-09-25 at 2 40 43 AM\" src=\"https://github.com/user-attachments/assets/8af679b4-0f17-46d3-b080-0d6403620d7b\">\n",
    "\n",
    "<img width=\"702\" alt=\"Screenshot 2024-09-25 at 2 40 54 AM\" src=\"https://github.com/user-attachments/assets/13d01b26-6c2c-4e37-bd56-1eb1b18e0217\">\n",
    "\n",
    "- the user’s input affects the flow of the program"
   ]
  }
 ],
 "metadata": {
  "kernelspec": {
   "display_name": "Java",
   "language": "java",
   "name": "java"
  },
  "language_info": {
   "codemirror_mode": "java",
   "file_extension": ".jshell",
   "mimetype": "text/x-java-source",
   "name": "java",
   "pygments_lexer": "java",
   "version": "17.0.12+7-Ubuntu-1ubuntu224.04"
  }
 },
 "nbformat": 4,
 "nbformat_minor": 2
}
