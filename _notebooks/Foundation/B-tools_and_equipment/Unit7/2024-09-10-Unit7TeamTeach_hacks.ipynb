{
 "cells": [
  {
   "cell_type": "markdown",
   "metadata": {},
   "source": [
    "---\n",
    "layout: post\n",
    "toc: true\n",
    "title: Unit 7 ArrayList P3 \n",
    "description: A Unit of documents that overview Array Lists in Java\n",
    "authors: Drishya, Arnav, Tanuj, Jason\n",
    "categories: [AP CSA]\n",
    "# courses: {'csa': {'week': 6}}\n",
    "type: ccc\n",
    "permalink: /csa/unit7-p3/unit7-6\n",
    "menu: nav/CSA_Units/csa_unit7_p3.html\n",
    "---"
   ]
  },
  {
   "cell_type": "markdown",
   "metadata": {
    "vscode": {
     "languageId": "plaintext"
    }
   },
   "source": [
    "## **ArrayList Coding Activity**\n",
    "\n",
    "### **Objective:**\n",
    "Students will create, manipulate, and sort an `ArrayList` of integers.\n",
    "\n",
    "### **Activity Outline:**\n",
    "\n",
    "1. **Create an ArrayList:**\n",
    "   - **Task:** Create an `ArrayList` of integers and add 5 elements of your choice.\n",
    "   - **Hint:** Use the `ArrayList` class and the `.add()` method to add elements.\n",
    "\n",
    "2. **Modify an Element:**\n",
    "   - **Task:** Change the second element (index 1) of the `ArrayList` to a new value (e.g., 100).\n",
    "   - **Hint:** The `.set()` method allows you to update an element at a specific index.\n",
    "\n",
    "3. **Remove an Element:**\n",
    "   - **Task:** Remove the third element (index 2) from the `ArrayList`.\n",
    "   - **Hint:** Use the `.remove()` method to delete an element by its index.\n",
    "\n",
    "4. **Search for an Element:**\n",
    "   - **Task:** Check if a specific number (e.g., 30) is in the `ArrayList` and print a message based on whether it is found or not.\n",
    "   - **Hint:** The `.contains()` method can be used to check for the presence of an element.\n",
    "\n",
    "5. **Loop Through the ArrayList:**\n",
    "   - **Task:** Use a `for` loop to print each element of the `ArrayList`.\n",
    "   - **Hint:** You can use a traditional `for` loop or an enhanced `for` loop (`for-each`) to iterate through the elements.\n",
    "\n",
    "6. **Sort the ArrayList:**\n",
    "   - **Task:** Sort the `ArrayList` in ascending order.\n",
    "   - **Hint:** Use `Collections.sort()` to sort the `ArrayList`.\n",
    "\n",
    "7. **Print the Sorted ArrayList:**\n",
    "   - **Task:** Print the sorted `ArrayList` to see the updated order of the elements.\n",
    "   - **Hint:** Use `System.out.println()` to print the sorted list.\n"
   ]
  },
  {
   "cell_type": "code",
   "execution_count": 1,
   "metadata": {
    "vscode": {
     "languageId": "java"
    }
   },
   "outputs": [
    {
     "name": "stdout",
     "output_type": "stream",
     "text": [
      "Original ArrayList: []\n",
      "ArrayList with new elements freshly added: [35, 53, 78, 24, 18]\n"
     ]
    }
   ],
   "source": [
    "import java.util.ArrayList;\n",
    "ArrayList<Integer> myIntegerList = new ArrayList<Integer>();\n",
    "System.out.println(\"Original ArrayList: \" + myIntegerList);\n",
    "myIntegerList.add(35);\n",
    "myIntegerList.add(53);\n",
    "myIntegerList.add(78);\n",
    "myIntegerList.add(24);\n",
    "myIntegerList.add(18);\n",
    "System.out.println(\"ArrayList with new elements freshly added: \" + myIntegerList);"
   ]
  },
  {
   "cell_type": "code",
   "execution_count": 2,
   "metadata": {
    "vscode": {
     "languageId": "java"
    }
   },
   "outputs": [
    {
     "name": "stdout",
     "output_type": "stream",
     "text": [
      "Third element before change: 78\n",
      "Third element after change: 59\n"
     ]
    }
   ],
   "source": [
    "System.out.println(\"Third element before change: \" + myIntegerList.get(2));\n",
    "myIntegerList.set(2, 59);\n",
    "System.out.println(\"Third element after change: \" + myIntegerList.get(2));"
   ]
  },
  {
   "cell_type": "code",
   "execution_count": 3,
   "metadata": {
    "vscode": {
     "languageId": "java"
    }
   },
   "outputs": [
    {
     "name": "stdout",
     "output_type": "stream",
     "text": [
      "ArrayList before removing second element: [35, 53, 59, 24, 18]\n",
      "ArrayList after removing second element: [35, 59, 24, 18]\n"
     ]
    }
   ],
   "source": [
    "System.out.println(\"ArrayList before removing second element: \" + myIntegerList);\n",
    "myIntegerList.remove(1); //removes second element which is 53, from the ArrayList\n",
    "System.out.println(\"ArrayList after removing second element: \" + myIntegerList);"
   ]
  },
  {
   "cell_type": "code",
   "execution_count": 6,
   "metadata": {
    "vscode": {
     "languageId": "java"
    }
   },
   "outputs": [
    {
     "name": "stdout",
     "output_type": "stream",
     "text": [
      "30 is not found in the ArrayList.\n",
      "59 is found in the ArrayList.\n"
     ]
    }
   ],
   "source": [
    "int searchNumber = 30;\n",
    "    if (myIntegerList.contains(searchNumber)) {\n",
    "        System.out.println(searchNumber + \" is found in the ArrayList.\");\n",
    "    } else {\n",
    "        System.out.println(searchNumber + \" is not found in the ArrayList.\");\n",
    "    }\n",
    "\n",
    "int searchNumber = 59;\n",
    "    if (myIntegerList.contains(searchNumber)) {\n",
    "        System.out.println(searchNumber + \" is found in the ArrayList.\");\n",
    "    } else {\n",
    "        System.out.println(searchNumber + \" is not found in the ArrayList.\");\n",
    "    }"
   ]
  },
  {
   "cell_type": "code",
   "execution_count": 7,
   "metadata": {
    "vscode": {
     "languageId": "java"
    }
   },
   "outputs": [
    {
     "name": "stdout",
     "output_type": "stream",
     "text": [
      "35\n",
      "59\n",
      "24\n",
      "18\n"
     ]
    }
   ],
   "source": [
    "for(int number : myIntegerList) {\n",
    "    System.out.println(number);\n",
    "}"
   ]
  },
  {
   "cell_type": "code",
   "execution_count": 9,
   "metadata": {
    "vscode": {
     "languageId": "java"
    }
   },
   "outputs": [],
   "source": [
    "import java.util.Collections;\n",
    "Collections.sort(myIntegerList);"
   ]
  },
  {
   "cell_type": "code",
   "execution_count": 10,
   "metadata": {
    "vscode": {
     "languageId": "java"
    }
   },
   "outputs": [
    {
     "name": "stdout",
     "output_type": "stream",
     "text": [
      "[18, 24, 35, 59]\n"
     ]
    }
   ],
   "source": [
    "System.out.println(myIntegerList);"
   ]
  }
 ],
 "metadata": {
  "kernelspec": {
   "display_name": "Java",
   "language": "java",
   "name": "java"
  },
  "language_info": {
   "codemirror_mode": "java",
   "file_extension": ".jshell",
   "mimetype": "text/x-java-source",
   "name": "Java",
   "pygments_lexer": "java",
   "version": "17.0.12+7-Ubuntu-1ubuntu224.04"
  }
 },
 "nbformat": 4,
 "nbformat_minor": 2
}
