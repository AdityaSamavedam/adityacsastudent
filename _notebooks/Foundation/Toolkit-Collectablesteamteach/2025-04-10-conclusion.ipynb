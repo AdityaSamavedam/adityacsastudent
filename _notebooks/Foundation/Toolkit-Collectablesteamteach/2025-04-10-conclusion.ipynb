{
 "cells": [
  {
   "cell_type": "markdown",
   "id": "8e09829f",
   "metadata": {},
   "source": [
    "---\n",
    "layout: post\n",
    "title: Collectables Toolkit\n",
    "categories: [AP CSA]\n",
    "permalink: /collectablesToolkitConclusion\n",
    "authors: Tarun, Srini, Nitin\n",
    "type: ccc\n",
    "menu: /nav/CSA_Units/ds_team_teaches/toolkit-collectables.html\n",
    "---"
   ]
  },
  {
   "cell_type": "markdown",
   "id": "b7a3c85d",
   "metadata": {},
   "source": [
    "## Summary Diagram\n",
    "\n",
    "![Image](https://github.com/user-attachments/assets/a21dbb2a-1f66-44b8-bc25-f08ac0718b6f)\n",
    "\n",
    "\n",
    "![Image2](https://github.com/user-attachments/assets/073aeab1-bcd4-425b-a8d7-726d92cb8912)"
   ]
  },
  {
   "cell_type": "markdown",
   "id": "84de7eb2",
   "metadata": {},
   "source": [
    "## Java Collections ***Homework*** (due the Wednesday After Spring break)\n",
    "\n",
    "### Objectives\n",
    "- Practice using **List**, **Set**, and **Deque**\n",
    "- Understand when and why to use each\n",
    "- Apply key methods from each collection type\n",
    "- Practice iteration and conditional logic with collections\n",
    "\n",
    "\n",
    "\n",
    "### Part 1: Working with Lists\n",
    "\n",
    "**Task:**  \n",
    "Create a method that takes a List<Integer> and returns a new list containing only the **even numbers**, in the same order.\n",
    "\n",
    "**Requirements:**\n",
    "- Use ArrayList\n",
    "- Use add, get, and size\n",
    "- Use a loop (not streams)\n",
    "\n",
    "\n",
    "\n",
    "### Part 2: Working with Sets\n",
    "\n",
    "**Task:**  \n",
    "Create a method that takes two Set<String> objects and returns a new Set<String> with only the **common elements** (i.e. the intersection).\n",
    "\n",
    "**Requirements:**\n",
    "- Use HashSet\n",
    "- Use contains, add, and iteration\n",
    "- Final result should have **no duplicates**\n",
    "\n",
    "\n",
    "\n",
    "### Part 3: Working with Deques\n",
    "\n",
    "**Task:**  \n",
    "Simulate a line of customers using a Deque<String>. Implement the following steps in order:\n",
    "\n",
    "1. Add 3 customers to the **end**\n",
    "2. Add 1 customer to the **front** (VIP)\n",
    "3. Remove the customer at the **front**\n",
    "4. Show the current front and back of the line\n",
    "5. Print the size of the line\n",
    "\n",
    "**Requirements:**\n",
    "- Use ArrayDeque\n",
    "- Use addFirst, addLast, removeFirst, peekFirst, peekLast, and size\n",
    "\n",
    "\n",
    "\n",
    "### Challenge Question (Bonus +0.01)\n",
    "\n",
    "**Question:**  \n",
    "You need to store a collection of student IDs where:\n",
    "- Order **doesn't matter**\n",
    "- You must prevent **duplicates**\n",
    "- You often need to **check if an ID exists**\n",
    "\n",
    "Which collection type would be most efficient to use and why?\n"
   ]
  },
  {
   "cell_type": "markdown",
   "id": "3c0eae36",
   "metadata": {},
   "source": [
    "### Part 1"
   ]
  },
  {
   "cell_type": "code",
   "execution_count": 3,
   "id": "be42626e",
   "metadata": {},
   "outputs": [
    {
     "name": "stdout",
     "output_type": "stream",
     "text": [
      "Even Numbers: [2, 4]\n"
     ]
    }
   ],
   "source": [
    "import java.util.ArrayList;\n",
    "import java.util.List;\n",
    "\n",
    "public static List<Integer> getEvenNumbers(List<Integer> numbers) {\n",
    "    List<Integer> evenNumbers = new ArrayList<>();\n",
    "    for (int i = 0; i < numbers.size(); i++) {\n",
    "        if (numbers.get(i) % 2 == 0) {\n",
    "            evenNumbers.add(numbers.get(i));\n",
    "        }\n",
    "    }\n",
    "    return evenNumbers;\n",
    "}\n",
    "\n",
    "List<Integer> numbers = new ArrayList<>();\n",
    "numbers.add(1);\n",
    "numbers.add(2);\n",
    "numbers.add(3);\n",
    "numbers.add(4);\n",
    "numbers.add(5);\n",
    "\n",
    "List<Integer> evenNumbers = getEvenNumbers(numbers);\n",
    "System.out.println(\"Even Numbers: \" + evenNumbers);"
   ]
  },
  {
   "cell_type": "markdown",
   "id": "e6a854a3",
   "metadata": {
    "vscode": {
     "languageId": "java"
    }
   },
   "source": [
    "### Part 2"
   ]
  },
  {
   "cell_type": "code",
   "execution_count": 4,
   "id": "56467ccd",
   "metadata": {},
   "outputs": [
    {
     "name": "stdout",
     "output_type": "stream",
     "text": [
      "Common Elements: [banana, cherry]\n"
     ]
    }
   ],
   "source": [
    "import java.util.HashSet;\n",
    "import java.util.Set;\n",
    "\n",
    "public static Set<String> getCommonElements(Set<String> set1, Set<String> set2) {\n",
    "    Set<String> commonElements = new HashSet<>();\n",
    "    for (String element : set1) {\n",
    "        if (set2.contains(element)) {\n",
    "            commonElements.add(element);\n",
    "        }\n",
    "    }\n",
    "    return commonElements;\n",
    "}\n",
    "Set<String> set1 = new HashSet<>();\n",
    "set1.add(\"apple\");\n",
    "set1.add(\"banana\");\n",
    "set1.add(\"cherry\");\n",
    "\n",
    "Set<String> set2 = new HashSet<>();\n",
    "set2.add(\"banana\");\n",
    "set2.add(\"cherry\");\n",
    "set2.add(\"date\");\n",
    "\n",
    "Set<String> commonElements = getCommonElements(set1, set2);\n",
    "System.out.println(\"Common Elements: \" + commonElements);"
   ]
  },
  {
   "cell_type": "markdown",
   "id": "3dae5622",
   "metadata": {},
   "source": [
    "### Part 3"
   ]
  },
  {
   "cell_type": "code",
   "execution_count": 1,
   "id": "6fee82b3",
   "metadata": {},
   "outputs": [
    {
     "name": "stdout",
     "output_type": "stream",
     "text": [
      "Front of the line: Customer 1\n",
      "Back of the line: Customer 3\n",
      "Size of the line: 3\n"
     ]
    }
   ],
   "source": [
    "import java.util.ArrayDeque;\n",
    "import java.util.Deque;\n",
    "\n",
    "Deque<String> customerLine = new ArrayDeque<>();\n",
    "\n",
    "// Add 3 customers to the **end**\n",
    "customerLine.addLast(\"Customer 1\");\n",
    "customerLine.addLast(\"Customer 2\");\n",
    "customerLine.addLast(\"Customer 3\");\n",
    "\n",
    "// Add 1 customer to the **front** (VIP)\n",
    "customerLine.addFirst(\"VIP Customer\");\n",
    "\n",
    "// Remove the customer at the **front**\n",
    "customerLine.removeFirst();\n",
    "\n",
    "// Show the current front and back of the line\n",
    "System.out.println(\"Front of the line: \" + customerLine.peekFirst());\n",
    "System.out.println(\"Back of the line: \" + customerLine.peekLast());\n",
    "\n",
    "// Print the size of the line\n",
    "System.out.println(\"Size of the line: \" + customerLine.size());"
   ]
  },
  {
   "cell_type": "markdown",
   "id": "02e5fd43",
   "metadata": {},
   "source": [
    "### Challenge Question (Bonus +0.01)"
   ]
  },
  {
   "cell_type": "markdown",
   "id": "ce0d2917",
   "metadata": {},
   "source": [
    "The collection type that is most efficient to use in this case is a HashSet.  \n",
    "\n",
    "- A HashSet does not maintain a specific order, which satisfies the \"Order doesn't matter\" requirement.\n",
    "- It automatically prevents duplicates, as it does not allow duplicate elements, unlike ArrayLists and LinkedLists\n",
    "- It provides constant-time performance for basic operations like `add`, `remove`, and `contains`, making it efficient for checking if an ID exists. The operations are fast due to the quick hashing."
   ]
  }
 ],
 "metadata": {
  "kernelspec": {
   "display_name": "Java",
   "language": "java",
   "name": "java"
  },
  "language_info": {
   "codemirror_mode": "java",
   "file_extension": ".jshell",
   "mimetype": "text/x-java-source",
   "name": "java",
   "pygments_lexer": "java",
   "version": "17.0.14+7-Ubuntu-124.04"
  }
 },
 "nbformat": 4,
 "nbformat_minor": 5
}
