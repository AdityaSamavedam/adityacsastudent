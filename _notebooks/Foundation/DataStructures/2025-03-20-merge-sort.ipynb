{
 "cells": [
  {
   "cell_type": "markdown",
   "metadata": {},
   "source": [
    "---\n",
    "title: Merge Sort\n",
    "comments: true\n",
    "layout: post\n",
    "description: Continue with Classes, Queues, performing Sorts and BigO analysis on your algorithm(s).\n",
    "author: John Mortensen\n",
    "type: ccc\n",
    "courses: { csa: {week: 25} }\n",
    "permalink: /data_structures/merge-sort/toolkit\n",
    "---\n"
   ]
  },
  {
   "cell_type": "markdown",
   "metadata": {},
   "source": [
    "### Merge Sort Simulation - Part 1: General Concept\n",
    "\n",
    "Merge Sort is a **divide and conquer** algorithm that splits a list into smaller sublists, sorts those sublists, and then merges them back together to form the sorted list. It is particularly efficient for large datasets.\n",
    "\n",
    "#### Steps of Merge Sort:\n",
    "1. **Divide**: Recursively split the list into two halves until each sublist contains a single element or is empty.\n",
    "2. **Conquer**: Sort each of the smaller sublists.\n",
    "3. **Combine**: Merge the sorted sublists back together to form the final sorted list.\n",
    "\n",
    "![alt text](https://i.ibb.co/VcdWLW1X/75CJ7.png)\n"
   ]
  },
  {
   "cell_type": "markdown",
   "metadata": {},
   "source": [
    "### Time Complexity of Merge Sort\n",
    "\n",
    "Merge Sort has a predictable time complexity due to its divide-and-conquer approach. Here's a breakdown:\n",
    "\n",
    "1. **Divide Step**: The list is divided into two halves recursively. This takes O(n log n)time because the list is halved at each level of recursion.\n",
    "\n",
    "2. **Merge Step**: At each level of recursion, the merging of two halves takes O(n) time, where n is the number of elements being merged.\n",
    "\n",
    "3. **Overall Complexity**: Since there are O(log n) levels of recursion and each level takes O(n) time to merge, the total time complexity is: O(n log n)\n",
    "\n",
    "\n"
   ]
  },
  {
   "cell_type": "markdown",
   "metadata": {},
   "source": [
    "## Popcorn Hack\n",
    "\n",
    "1. Why do we divide the array into halves in Merge Sort?\n",
    "2. Why does Merge Sort have O(n log n) complexity?\n"
   ]
  },
  {
   "cell_type": "markdown",
   "metadata": {},
   "source": [
    "1. We divide the array into halves in Merge Sort because it makes it easier and it reduces the number of steps and complexity. Breaking it into halves makes it easier.\n",
    "2. Divide step (log n):\n",
    "    - every time you split the array, it becomes halved\n",
    "    - starting with `n` elements results in splitting `log₂(n)` times until each sub array has 1 element\n",
    "    Merge step (n):\n",
    "    - merging two sorted arrays takes linear time `O(n)`\n",
    "\n",
    "    `O(log(n)) * O(n) = O(n log(n))` "
   ]
  },
  {
   "cell_type": "markdown",
   "metadata": {},
   "source": [
    "## Example Walk Through"
   ]
  },
  {
   "cell_type": "code",
   "execution_count": null,
   "metadata": {
    "vscode": {
     "languageId": "java"
    }
   },
   "outputs": [],
   "source": [
    "public class MergeSort {\n",
    "\n",
    "    // Main function to sort an array\n",
    "    public static void mergeSort(int[] array) {\n",
    "        if (array.length < 2) {\n",
    "            return; // Base case: an array of length 0 or 1 is already sorted\n",
    "        }\n",
    "        \n",
    "        // Find the middle index\n",
    "        int mid = array.length / 2;\n",
    "\n",
    "        // Divide the array into two halves\n",
    "        int[] left = new int[mid];\n",
    "        int[] right = new int[array.length - mid];\n",
    "\n",
    "        // Copy data to left and right subarrays\n",
    "        System.arraycopy(array, 0, left, 0, mid);\n",
    "        System.arraycopy(array, mid, right, 0, array.length - mid);\n",
    "\n",
    "        // Recursively sort both halves\n",
    "        mergeSort(left);\n",
    "        mergeSort(right);\n",
    "\n",
    "        // Merge the sorted halves\n",
    "        merge(array, left, right);\n",
    "    }\n",
    "\n",
    "    // Helper function to merge two sorted arrays\n",
    "    public static void merge(int[] array, int[] left, int[] right) {\n",
    "        int i = 0, j = 0, k = 0;\n",
    "\n",
    "        // Merge the two sorted subarrays\n",
    "        while (i < left.length && j < right.length) {\n",
    "            if (left[i] <= right[j]) {\n",
    "                array[k] = left[i];\n",
    "                i++;\n",
    "            } else {\n",
    "                array[k] = right[j];\n",
    "                j++;\n",
    "            }\n",
    "            k++;\n",
    "        }\n",
    "\n",
    "        // Copy the remaining elements of left[] if any\n",
    "        while (i < left.length) {\n",
    "            array[k] = left[i];\n",
    "            i++;\n",
    "            k++;\n",
    "        }\n",
    "\n",
    "        // Copy the remaining elements of right[] if any\n",
    "        while (j < right.length) {\n",
    "            array[k] = right[j];\n",
    "            j++;\n",
    "            k++;\n",
    "        }\n",
    "    }\n",
    "\n",
    "    // Main method to test the merge sort\n",
    "    public static void main(String[] args) {\n",
    "        int[] array = { 38, 27, 43, 3, 9, 82, 10 };\n",
    "        System.out.println(\"Original array:\");\n",
    "        System.out.println(Arrays.toString(array));\n",
    "\n",
    "        mergeSort(array);\n",
    "\n",
    "        System.out.println(\"Sorted array:\");\n",
    "        System.out.println(Arrays.toString(array));\n",
    "    }\n",
    "}\n"
   ]
  },
  {
   "cell_type": "markdown",
   "metadata": {},
   "source": [
    "### Explanation of the Code:\n",
    "\n",
    "1. **`mergeSort` function**:\n",
    "   - This function is the main sorting function.\n",
    "   - If the array has only one element or is empty, it's already sorted, and the function returns immediately.\n",
    "   - Otherwise, the array is split into two subarrays: `left` and `right`.\n",
    "   - It recursively sorts each half using the same `mergeSort` function.\n",
    "\n",
    "2. **`merge` function**:\n",
    "   - After both halves are sorted, we need to combine them back together in sorted order.\n",
    "   - It compares the elements of `left` and `right` arrays, putting the smaller element into the main `array` until one of the subarrays is exhausted.\n",
    "   - After that, it copies any remaining elements from the `left` or `right` arrays into the main `array`.\n",
    "\n",
    "3. **`main` function**:\n",
    "   - This function tests the merge sort by creating an unsorted array, printing it, sorting it using `mergeSort`, and then printing the sorted array.\n"
   ]
  },
  {
   "cell_type": "markdown",
   "metadata": {},
   "source": [
    "Let's say we have this array:  \n",
    "\n",
    "\n",
    "**[38, 27, 43, 3, 9, 82, 10]**\n",
    "\n",
    "1. **Divide Step**:\n",
    "   - Split into two parts:  \n",
    "     **Left**: [38, 27, 43]  \n",
    "     **Right**: [3, 9, 82, 10]\n",
    "   \n",
    "2. **Recursion**:\n",
    "   - Sort each half:\n",
    "     - **Left**: [38, 27, 43] → Split again into [38] and [27, 43] → Sort to [27, 38, 43]\n",
    "     - **Right**: [3, 9, 82, 10] → Split into [3, 9] and [82, 10] → Sort to [3, 9] and [10, 82]\n",
    "\n",
    "3. **Merge Step**:\n",
    "   - Now merge back:\n",
    "     - Merging [27, 38, 43] and [3, 9, 10, 82], results in the sorted array:  \n",
    "       **[3, 9, 10, 27, 38, 43, 82]**\n"
   ]
  },
  {
   "cell_type": "code",
   "execution_count": 2,
   "metadata": {
    "vscode": {
     "languageId": "java"
    }
   },
   "outputs": [
    {
     "name": "stdout",
     "output_type": "stream",
     "text": [
      "Sorted array:\n",
      "5 6 7 11 12 13 \n"
     ]
    }
   ],
   "source": [
    "class MergeSort {\n",
    "    void merge(int arr[], int left, int mid, int right) {\n",
    "        int n1 = mid - left + 1;\n",
    "        int n2 = right - mid;\n",
    "\n",
    "        int L[] = new int[n1];\n",
    "        int R[] = new int[n2];\n",
    "\n",
    "        for (int i = 0; i < n1; i++)\n",
    "            L[i] = arr[left + i];\n",
    "        for (int j = 0; j < n2; j++)\n",
    "            R[j] = arr[mid + 1 + j];\n",
    "\n",
    "        int i = 0, j = 0, k = left;\n",
    "        while (i < n1 && j < n2) {\n",
    "            if (L[i] <= R[j]) {\n",
    "                arr[k] = L[i];\n",
    "                i++;\n",
    "            } else {\n",
    "                arr[k] = R[j];\n",
    "                j++;\n",
    "            }\n",
    "            k++;\n",
    "        }\n",
    "\n",
    "        while (i < n1) {\n",
    "            arr[k] = L[i];\n",
    "            i++;\n",
    "            k++;\n",
    "        }\n",
    "\n",
    "        while (j < n2) {\n",
    "            arr[k] = R[j];\n",
    "            j++;\n",
    "            k++;\n",
    "        }\n",
    "    }\n",
    "\n",
    "    void sort(int arr[], int left, int right) {\n",
    "        if (left < right) {\n",
    "            int mid = left + (right - left) / 2;\n",
    "\n",
    "            sort(arr, left, mid);\n",
    "            sort(arr, mid + 1, right);\n",
    "            merge(arr, left, mid, right);\n",
    "        }\n",
    "    }\n",
    "\n",
    "    static void printArray(int arr[]) {\n",
    "        for (int i : arr)\n",
    "            System.out.print(i + \" \");\n",
    "        System.out.println();\n",
    "    }\n",
    "\n",
    "    public static void main(String args[]) {\n",
    "        int arr[] = { 12, 11, 13, 5, 6, 7 };\n",
    "        MergeSort ob = new MergeSort();\n",
    "        ob.sort(arr, 0, arr.length - 1);\n",
    "        System.out.println(\"Sorted array:\");\n",
    "        printArray(arr);\n",
    "    }\n",
    "}\n",
    "MergeSort.main(null);"
   ]
  },
  {
   "cell_type": "markdown",
   "metadata": {},
   "source": [
    "## Popcorn hack modifications to this code \n",
    "- ask class to modify the code to sort the array in decesnding order \n",
    "- Ask students to count the number of comparisons happening in the merge() function and print the count.\n",
    "- Write a Java method that checks if a given array is already sorted before applying Merge Sort."
   ]
  },
  {
   "cell_type": "code",
   "execution_count": 5,
   "metadata": {
    "vscode": {
     "languageId": "java"
    }
   },
   "outputs": [
    {
     "name": "stdout",
     "output_type": "stream",
     "text": [
      "Array after sorting in descending order:\n",
      "13 12 11 7 6 5 \n",
      "Number of comparisons during merge: 7\n"
     ]
    }
   ],
   "source": [
    "class MergeSortDescending {\n",
    "    int comparisonCount = 0;\n",
    "\n",
    "    void merge(int arr[], int left, int mid, int right) {\n",
    "        int n1 = mid - left + 1;\n",
    "        int n2 = right - mid;\n",
    "\n",
    "        int L[] = new int[n1];\n",
    "        int R[] = new int[n2];\n",
    "\n",
    "        for (int i = 0; i < n1; i++)\n",
    "            L[i] = arr[left + i];\n",
    "        for (int j = 0; j < n2; j++)\n",
    "            R[j] = arr[mid + 1 + j];\n",
    "\n",
    "        int i = 0, j = 0, k = left;\n",
    "        while (i < n1 && j < n2) {\n",
    "            comparisonCount++; // count each comparison\n",
    "            if (L[i] >= R[j]) { // descending order\n",
    "                arr[k] = L[i];\n",
    "                i++;\n",
    "            } else {\n",
    "                arr[k] = R[j];\n",
    "                j++;\n",
    "            }\n",
    "            k++;\n",
    "        }\n",
    "\n",
    "        while (i < n1) {\n",
    "            arr[k] = L[i];\n",
    "            i++;\n",
    "            k++;\n",
    "        }\n",
    "\n",
    "        while (j < n2) {\n",
    "            arr[k] = R[j];\n",
    "            j++;\n",
    "            k++;\n",
    "        }\n",
    "    }\n",
    "\n",
    "    void sort(int arr[], int left, int right) {\n",
    "        if (left < right) {\n",
    "            int mid = left + (right - left) / 2;\n",
    "            sort(arr, left, mid);\n",
    "            sort(arr, mid + 1, right);\n",
    "            merge(arr, left, mid, right);\n",
    "        }\n",
    "    }\n",
    "\n",
    "    boolean isSortedDescending(int[] arr) {\n",
    "        for (int i = 1; i < arr.length; i++) {\n",
    "            if (arr[i - 1] < arr[i]) {\n",
    "                return false;\n",
    "            }\n",
    "        }\n",
    "        return true;\n",
    "    }\n",
    "\n",
    "    static void printArray(int arr[]) {\n",
    "        for (int i : arr)\n",
    "            System.out.print(i + \" \");\n",
    "        System.out.println();\n",
    "    }\n",
    "\n",
    "    public static void main(String args[]) {\n",
    "        int arr[] = { 12, 11, 13, 5, 6, 7 };\n",
    "\n",
    "        MergeSort ob = new MergeSort();\n",
    "\n",
    "        if (ob.isSortedDescending(arr)) {\n",
    "            System.out.println(\"Array is already sorted in descending order:\");\n",
    "        } else {\n",
    "            ob.sort(arr, 0, arr.length - 1);\n",
    "            System.out.println(\"Array after sorting in descending order:\");\n",
    "        }\n",
    "\n",
    "        printArray(arr);\n",
    "        System.out.println(\"Number of comparisons during merge: \" + ob.comparisonCount);\n",
    "    }\n",
    "}\n",
    "\n",
    "MergeSortDescending.main(null);"
   ]
  },
  {
   "cell_type": "markdown",
   "metadata": {},
   "source": [
    "## Homework\n",
    "\n",
    "\n",
    "### Task 1: \n",
    "1. Explain Merge Sort in Your Own Words \n",
    "Write a short explanation (100-200 words) describing:\n",
    "\n",
    "- How Merge Sort works.\n",
    "- Why it has O(n log n) complexity.\n",
    "- How it differs from other sorting algorithms like Bubble Sort or Quick Sort.\n",
    "\n",
    "### Task 2\n",
    "2. Code a Modified Version of Merge Sort \n",
    "Choose ONE of the following modifications and implement it in Java:\n",
    "\n",
    "- Option A: Merge Sort Without Recursion\n",
    "    - Modify the Merge Sort algorithm to work iteratively instead of recursively.\n",
    "\n",
    "- Option B: Counting Inversions Using Merge Sort\n",
    "    - Modify Merge Sort to count the number of inversions in an array. (An inversion is when a larger number appears before a smaller number in an array.)\n",
    "\n",
    "- Option C: Sorting a Linked List Using Merge Sort\n",
    "    - Instead of an array, implement Merge Sort for a singly linked list."
   ]
  },
  {
   "cell_type": "markdown",
   "metadata": {
    "vscode": {
     "languageId": "java"
    }
   },
   "source": [
    "### Task 1\n",
    "Merge Sort is a divide and conquer algorithm where you split an array into halves, sort each half recursively, and then merge the sorted halves back together. It continues dividing the array until each subarray has only one element, and then it combines them in a way that preserves the order.\n",
    "\n",
    "Merge Sort has a time complexity of O(n log n) because it divides the array in half at every level (which takes log n steps), and in each level, it merges all elements back together (which takes O(n) time). So overall, it performs n operations across log n levels.\n",
    "\n",
    "Compared to Bubble Sort, which repeatedly swaps adjacent elements and has a worst-case time complexity of O(n²), Merge Sort is much more efficient for large arrays. Unlike Quick Sort, which also uses divide and conquer but also has a worst-case time complexity of O(n²), Merge Sort guarantees O(n log n) in all cases. However, Merge Sort will use extra memory for the temporary arrays during merging, while Quick Sort can be done in-place."
   ]
  },
  {
   "cell_type": "markdown",
   "metadata": {},
   "source": [
    "### Task 2\n",
    "Option B:"
   ]
  },
  {
   "cell_type": "code",
   "execution_count": 14,
   "metadata": {
    "vscode": {
     "languageId": "java"
    }
   },
   "outputs": [],
   "source": [
    "class MergeSortModified {\n",
    "    int inversionCount = 0;\n",
    "\n",
    "    int mergeAndCount(int arr[], int left, int mid, int right) {\n",
    "        int n1 = mid - left + 1;\n",
    "        int n2 = right - mid;\n",
    "\n",
    "        int L[] = new int[n1];\n",
    "        int R[] = new int[n2];\n",
    "\n",
    "        for (int i = 0; i < n1; i++)\n",
    "            L[i] = arr[left + i];\n",
    "        for (int j = 0; j < n2; j++)\n",
    "            R[j] = arr[mid + 1 + j];\n",
    "\n",
    "        int i = 0, j = 0, k = left;\n",
    "        int inversions = 0;\n",
    "\n",
    "        while (i < n1 && j < n2) {\n",
    "            if (L[i] <= R[j]) {\n",
    "                arr[k++] = L[i++];\n",
    "            } else {\n",
    "                arr[k++] = R[j++];\n",
    "                inversions += (n1 - i); // count the number of inversions\n",
    "            }\n",
    "        }\n",
    "\n",
    "        while (i < n1)\n",
    "            arr[k++] = L[i++];\n",
    "        while (j < n2)\n",
    "            arr[k++] = R[j++];\n",
    "\n",
    "        return inversions;\n",
    "    }\n",
    "\n",
    "    int sortAndCount(int arr[], int left, int right) {\n",
    "        int inversions = 0;\n",
    "        if (left < right) {\n",
    "            int mid = left + (right - left) / 2;\n",
    "\n",
    "            inversions += sortAndCount(arr, left, mid);\n",
    "            inversions += sortAndCount(arr, mid + 1, right);\n",
    "            inversions += mergeAndCount(arr, left, mid, right);\n",
    "        }\n",
    "        return inversions;\n",
    "    }\n",
    "\n",
    "    static void printArray(int arr[]) {\n",
    "        for (int i : arr)\n",
    "            System.out.print(i + \" \");\n",
    "        System.out.println();\n",
    "    }\n",
    "\n",
    "    public static void main(String[] args) {\n",
    "        int arr[] = { 2, 4, 1, 3, 5 };\n",
    "        MergeSort ob = new MergeSort();\n",
    "        int totalInversions = ob.sortAndCount(arr, 0, arr.length - 1);\n",
    "    \n",
    "        System.out.println(\"Sorted array:\");\n",
    "        printArray(arr);\n",
    "        System.out.println(\"Total number of inversions: \" + totalInversions);\n",
    "    }\n",
    "}"
   ]
  },
  {
   "cell_type": "code",
   "execution_count": null,
   "metadata": {
    "vscode": {
     "languageId": "java"
    }
   },
   "outputs": [],
   "source": [
    "Sorted array:\n",
    "1 2 3 4 5\n",
    "Total number of inversions: 3"
   ]
  }
 ],
 "metadata": {
  "kernelspec": {
   "display_name": "Java",
   "language": "java",
   "name": "java"
  },
  "language_info": {
   "codemirror_mode": "java",
   "file_extension": ".jshell",
   "mimetype": "text/x-java-source",
   "name": "Java",
   "pygments_lexer": "java",
   "version": "17.0.14+7-Ubuntu-124.04"
  }
 },
 "nbformat": 4,
 "nbformat_minor": 2
}
