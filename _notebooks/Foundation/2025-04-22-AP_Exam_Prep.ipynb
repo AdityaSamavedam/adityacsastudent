{
 "cells": [
  {
   "cell_type": "markdown",
   "metadata": {
    "vscode": {
     "languageId": "raw"
    }
   },
   "source": [
    "---\n",
    "layout: post\n",
    "title: AP CSA Exam Preparation\n",
    "categories: [AP CSA]\n",
    "permalink: /csaprep\n",
    "description:  How I studied for the AP Computer Science A exam\n",
    "type: ccc\n",
    "comments: true\n",
    "---"
   ]
  },
  {
   "cell_type": "markdown",
   "metadata": {},
   "source": [
    "## Practice MC"
   ]
  },
  {
   "cell_type": "markdown",
   "metadata": {},
   "source": [
    "![image1.png](/home/adityasamavedam/nighthawk/csa/adityacsastudent/Screenshot_2025-04-22_235342.png)\n",
    "![image3.png](/home/adityasamavedam/nighthawk/csa/adityacsastudent/Screenshot-2025-04-23_121929.png)"
   ]
  },
  {
   "cell_type": "markdown",
   "metadata": {},
   "source": [
    "## Practice FRQ"
   ]
  },
  {
   "cell_type": "markdown",
   "metadata": {},
   "source": [
    "#### 1a"
   ]
  },
  {
   "cell_type": "code",
   "execution_count": null,
   "metadata": {
    "vscode": {
     "languageId": "java"
    }
   },
   "outputs": [],
   "source": [
    "public static int hailstoneLength(int n) {\n",
    "    int count = 1;\n",
    "    while (n != 1) {\n",
    "        if (n % 2 == 0) {\n",
    "            n = n / 2;\n",
    "        } else {\n",
    "            n = 3 * n + 1; \n",
    "            \n",
    "        }\n",
    "        count++;\n",
    "    }\n",
    "    return count;\n",
    "}"
   ]
  },
  {
   "cell_type": "markdown",
   "metadata": {
    "vscode": {
     "languageId": "java"
    }
   },
   "source": [
    "#### 1b"
   ]
  },
  {
   "cell_type": "code",
   "execution_count": null,
   "metadata": {
    "vscode": {
     "languageId": "java"
    }
   },
   "outputs": [],
   "source": [
    "public static boolean isLongSeq(int n) {\n",
    "    return hailstoneLength(n) > n;\n",
    "}"
   ]
  },
  {
   "cell_type": "markdown",
   "metadata": {},
   "source": [
    "#### 1c"
   ]
  },
  {
   "cell_type": "code",
   "execution_count": null,
   "metadata": {
    "vscode": {
     "languageId": "java"
    }
   },
   "outputs": [],
   "source": [
    "public static double propLong(int n) {\n",
    "    int countLong = 0;\n",
    "    for (int i = 1; i <= n; i++) {\n",
    "        if (isLongSeq(i)) {\n",
    "            countLong++;\n",
    "        }\n",
    "    }\n",
    "    return (double) countLong / n;\n",
    "}"
   ]
  },
  {
   "cell_type": "markdown",
   "metadata": {},
   "source": [
    "#### 2"
   ]
  },
  {
   "cell_type": "code",
   "execution_count": null,
   "metadata": {
    "vscode": {
     "languageId": "java"
    }
   },
   "outputs": [],
   "source": [
    "import java.util.Random;\n",
    "\n",
    "public class GameSpinner {\n",
    "    private int sectors;\n",
    "    private int currentRun;\n",
    "    private int lastSpin;\n",
    "    private Random random;\n",
    "\n",
    "    public GameSpinner(int sectors) {\n",
    "        this.sectors = sectors;\n",
    "        this.currentRun = 0;\n",
    "        this.lastSpin = -1;\n",
    "        this.random = new Random();\n",
    "    }\n",
    "\n",
    "    public int spin() {\n",
    "        int spinResult = random.nextInt(sectors) + 1;\n",
    "        if (spinResult == lastSpin) {\n",
    "            currentRun++;\n",
    "        } else {\n",
    "            currentRun = 1;\n",
    "        }\n",
    "        lastSpin = spinResult;\n",
    "        return spinResult;\n",
    "    }\n",
    "\n",
    "    public int currentRun() {\n",
    "        return currentRun;\n",
    "    }\n",
    "}"
   ]
  },
  {
   "cell_type": "markdown",
   "metadata": {},
   "source": [
    "#### 3a"
   ]
  },
  {
   "cell_type": "code",
   "execution_count": null,
   "metadata": {
    "vscode": {
     "languageId": "java"
    }
   },
   "outputs": [],
   "source": [
    "public void addReview(ProductReview prodReview) {\n",
    "    reviewList.add(prodReview);\n",
    "    String productName = prodReview.getName();\n",
    "    if (!productList.contains(productName)) {\n",
    "        productList.add(productName);\n",
    "    }\n",
    "}"
   ]
  },
  {
   "cell_type": "markdown",
   "metadata": {},
   "source": [
    "#### 3b"
   ]
  },
  {
   "cell_type": "code",
   "execution_count": null,
   "metadata": {
    "vscode": {
     "languageId": "java"
    }
   },
   "outputs": [],
   "source": [
    "public int getNumGoodReviews(String prodName) {\n",
    "    int goodReviewCount = 0;\n",
    "    for (ProductReview review : reviewList) {\n",
    "        if (review.getName().equals(prodName) && review.getReview().contains(\"best\")) {\n",
    "            goodReviewCount++;\n",
    "        }\n",
    "    }\n",
    "    return goodReviewCount;\n",
    "}"
   ]
  },
  {
   "cell_type": "markdown",
   "metadata": {},
   "source": [
    "#### 4a"
   ]
  },
  {
   "cell_type": "code",
   "execution_count": null,
   "metadata": {
    "vscode": {
     "languageId": "java"
    }
   },
   "outputs": [],
   "source": [
    "public Theater(int seatsPerRow, int tier1Rows, int tier2Rows) {\n",
    "    int totalRows = tier1Rows + tier2Rows;\n",
    "    theaterSeats = new Seat[totalRows][seatsPerRow];\n",
    "    \n",
    "    for (int row = 0; row < totalRows; row++) {\n",
    "        int tier;\n",
    "        if (row < tier1Rows) {\n",
    "            tier = 1;\n",
    "        } else {\n",
    "            tier = 2;\n",
    "        }\n",
    "\n",
    "        for (int col = 0; col < seatsPerRow; col++) {\n",
    "            theaterSeats[row][col] = new Seat(true, tier);\n",
    "        }\n",
    "    }\n",
    "}"
   ]
  },
  {
   "cell_type": "markdown",
   "metadata": {},
   "source": [
    "#### 4b"
   ]
  },
  {
   "cell_type": "code",
   "execution_count": null,
   "metadata": {
    "vscode": {
     "languageId": "java"
    }
   },
   "outputs": [],
   "source": [
    "public boolean reassignSeat(int fromRow, int fromCol, int toRow, int toCol) {\n",
    "    Seat fromSeat = theaterSeats[fromRow][fromCol];\n",
    "    Seat toSeat = theaterSeats[toRow][toCol];\n",
    "    \n",
    "    if (!toSeat.isAvailable()) {\n",
    "        return false;\n",
    "    }\n",
    "    \n",
    "    if (toSeat.getTier() < fromSeat.getTier()) {\n",
    "        return false;\n",
    "    }\n",
    "    \n",
    "    toSeat.setAvailability(false);\n",
    "    fromSeat.setAvailability(true);\n",
    "    return true;\n",
    "}"
   ]
  },
  {
   "cell_type": "markdown",
   "metadata": {},
   "source": [
    "### How I've prepared and am preparing for the exam\n",
    "\n",
    "- Practice MCQs\n",
    "- Practice FRQs\n",
    "- Watching collegeboard videos, doing practice questions\n",
    "- Solving questions from the AP CSA book"
   ]
  },
  {
   "cell_type": "markdown",
   "metadata": {},
   "source": [
    "### Further Plans to prepare:\n",
    "\n",
    "- Reviewing past exam questions and solutions.  \n",
    "- Practicing time management by simulating exam conditions.  \n",
    "- Revisiting the challenging topics with CollegeBoard videos.  \n",
    "- Taking mock exams to assess readiness and identify weak areas."
   ]
  },
  {
   "cell_type": "markdown",
   "metadata": {},
   "source": [
    "### Commonly Tested Topics on AP CSA Exam MCQs\n",
    "\n",
    "1. **Object-Oriented Programming Concepts**  \n",
    "    - Understanding classes, objects, inheritance, and polymorphism.\n",
    "    - Identifying appropriate use of encapsulation and abstraction.\n",
    "\n",
    "2. **Control Structures**  \n",
    "    - Proficiency with `if`, `else`, `switch`, `for`, `while`, and `do-while` loops.\n",
    "    - Logical reasoning and debugging code snippets.\n",
    "\n",
    "3. **Data Structures**  \n",
    "    - Working with arrays, ArrayLists, and 2D arrays.\n",
    "    - Traversing, modifying, and analyzing data structures.\n",
    "\n",
    "4. **Methods and Parameters**  \n",
    "    - Writing and understanding methods with parameters and return values.\n",
    "    - Overloading and recursion.\n",
    "\n",
    "5. **AP Java Subset**  \n",
    "    - Familiarity with the specific Java classes and methods allowed on the exam.\n",
    "    - Commonly tested classes include `String`, `Math`, and `ArrayList`.\n",
    "\n",
    "6. **Algorithm Development**  \n",
    "    - Problem-solving with searching and sorting algorithms.\n",
    "    - Analyzing time and space complexity.\n",
    "\n",
    "7. **Code Analysis**  \n",
    "    - Identifying errors, predicting output, and understanding code behavior.\n",
    "    - Reading and interpreting code snippets effectively."
   ]
  },
  {
   "cell_type": "markdown",
   "metadata": {},
   "source": [
    "### Four Types of FRQs on the AP Computer Science A Exam\n",
    "\n",
    "1. **Methods and Control Structures**  \n",
    "    - Write methods that use `if-else` statements for decision-making.  \n",
    "    - Implement loops (`for`, `while`) for iteration and repetition.  \n",
    "    - Use logical operators (`&&`, `||`, `!`) to form complex conditions.  \n",
    "    - Handle edge cases and validate input within methods.  \n",
    "    - Understand method overloading and recursion for problem-solving.  \n",
    "\n",
    "2. **Writing Classes**  \n",
    "    - Define fields with appropriate access modifiers (`private`, `public`).  \n",
    "    - Write constructors to initialize objects with default or specific values.  \n",
    "    - Implement getter and setter methods for encapsulation.  \n",
    "    - Use inheritance to extend functionality of existing classes.  \n",
    "    - Override methods to provide specific behavior in subclasses.  \n",
    "\n",
    "3. **Array/ArrayList**  \n",
    "    - Traverse arrays or ArrayLists using loops.  \n",
    "    - Add, remove, or update elements in an ArrayList.  \n",
    "    - Search for specific elements using linear or binary search.  \n",
    "    - Sort arrays or ArrayLists using built-in methods or custom logic.  \n",
    "    - Handle out-of-bounds errors and ensure proper indexing.  \n",
    "\n",
    "4. **2D Array**  \n",
    "    - Access elements using nested loops for row and column traversal.  \n",
    "    - Perform operations like summing rows, columns, or diagonals.  \n",
    "    - Search for specific values within a 2D array.  \n",
    "    - Modify elements based on conditions or patterns.  \n",
    "    - Understand memory layout and indexing of 2D arrays.  "
   ]
  }
 ],
 "metadata": {
  "kernelspec": {
   "display_name": "Java",
   "language": "java",
   "name": "java"
  },
  "language_info": {
   "codemirror_mode": "java",
   "file_extension": ".jshell",
   "mimetype": "text/x-java-source",
   "name": "Java",
   "pygments_lexer": "java",
   "version": "17.0.14+7-Ubuntu-124.04"
  }
 },
 "nbformat": 4,
 "nbformat_minor": 2
}
