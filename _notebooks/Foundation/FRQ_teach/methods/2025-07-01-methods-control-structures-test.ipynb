{
 "cells": [
  {
   "cell_type": "markdown",
   "metadata": {
    "vscode": {
     "languageId": "raw"
    }
   },
   "source": [
    "---\n",
    "layout: post\n",
    "title: Feeder Class Simulation\n",
    "categories: [AP CSA]\n",
    "menu: nav/CSA_Units/frqs/methods_per3.html\n",
    "permalink: /methods_per3/tester\n",
    "---"
   ]
  },
  {
   "cell_type": "markdown",
   "metadata": {},
   "source": [
    "# AP CSA FRQ Tester: Feeder Class Simulation (2024)\n",
    "\n",
    "This notebook allows you to test your implementation of the `simulateOneDay` and `simulateManyDays` methods for the **Feeder** class.\n",
    "\n",
    "The test harness will:\n",
    "1. Append your code to a predefined test structure.\n",
    "2. Run several test cases.\n",
    "3. Display the results of the test cases.\n",
    "\n",
    "---\n",
    "\n",
    "## Instructions\n",
    "\n",
    "1. Add the code as per the FRQ instructions in the //YOUR CODE HERE\n",
    "2. Run both code cells to test your code for errors against provided test cases\n",
    "---\n",
    "\n"
   ]
  },
  {
   "cell_type": "code",
   "execution_count": 5,
   "metadata": {},
   "outputs": [],
   "source": [
    "// Feeder class implementation\n",
    "public class Feeder {\n",
    "    int currentFood; // Amount of food in grams in the feeder\n",
    "\n",
    "    public Feeder(int initialFood) {\n",
    "        currentFood = initialFood;\n",
    "    }\n",
    "\n",
    "    /**\n",
    "     * Simulates one day with numBirds birds or possibly a bear at the feeder.\n",
    "     * Precondition: numBirds > 0\n",
    "     */\n",
    "    public void simulateOneDay(int numBirds) {\n",
    "        // Each bird consumes 100 grams\n",
    "        int foodConsumedByBirds = numBirds * 100;\n",
    "\n",
    "        // Check if a bear arrives (10% chance)\n",
    "        boolean bearArrives = Math.random() < 0.1;\n",
    "\n",
    "        if (bearArrives) {\n",
    "            // A bear consumes all the food in the feeder\n",
    "            currentFood = 0;\n",
    "        } else {\n",
    "            // Birds consume food; food cannot go below 0\n",
    "            currentFood = Math.max(0, currentFood - foodConsumedByBirds);\n",
    "        }\n",
    "    }\n",
    "\n",
    "    /**\n",
    "     * Simulates numDays of activity at the feeder with numBirds birds.\n",
    "     * Returns the number of days on which food was found in the feeder.\n",
    "     * Precondition: numBirds > 0, numDays > 0\n",
    "     */\n",
    "    public int simulateManyDays(int numBirds, int numDays) {\n",
    "        int daysWithFood = 0;\n",
    "\n",
    "        for (int day = 0; day < numDays; day++) {\n",
    "            if (currentFood > 0) {\n",
    "                daysWithFood++;\n",
    "            }\n",
    "            simulateOneDay(numBirds);\n",
    "        }\n",
    "\n",
    "        return daysWithFood;\n",
    "    }\n",
    "}"
   ]
  },
  {
   "cell_type": "code",
   "execution_count": 2,
   "metadata": {},
   "outputs": [
    {
     "name": "stdout",
     "output_type": "stream",
     "text": [
      "Test Case 1: Current food after one day: 1400\n",
      "Test Case 2: Days with food: 1, Remaining food: 0\n",
      "Test Case 3: Days with food: 0, Remaining food: 0\n",
      "\n"
     ]
    }
   ],
   "source": [
    "public class FeederTest {\n",
    "    public static void main(String[] args) {\n",
    "        StringBuilder results = new StringBuilder();\n",
    "\n",
    "        // Test Case 1\n",
    "        Feeder feeder1 = new Feeder(2400);\n",
    "        feeder1.simulateOneDay(10);\n",
    "        results.append(\"Test Case 1: Current food after one day: \").append(feeder1.currentFood).append(\"\\n\");\n",
    "\n",
    "        // Test Case 2\n",
    "        Feeder feeder2 = new Feeder(250);\n",
    "        int daysWithFood2 = feeder2.simulateManyDays(10, 5);\n",
    "        results.append(\"Test Case 2: Days with food: \").append(daysWithFood2)\n",
    "               .append(\", Remaining food: \").append(feeder2.currentFood).append(\"\\n\");\n",
    "\n",
    "        // Test Case 3\n",
    "        Feeder feeder3 = new Feeder(0);\n",
    "        int daysWithFood3 = feeder3.simulateManyDays(5, 10);\n",
    "        results.append(\"Test Case 3: Days with food: \").append(daysWithFood3)\n",
    "               .append(\", Remaining food: \").append(feeder3.currentFood).append(\"\\n\");\n",
    "\n",
    "        // Print Results\n",
    "        System.out.println(results.toString());\n",
    "    }\n",
    "}\n",
    "\n",
    "FeederTest.main(null);"
   ]
  }
 ],
 "metadata": {
  "kernelspec": {
   "display_name": "Java",
   "language": "java",
   "name": "java"
  },
  "language_info": {
   "codemirror_mode": "java",
   "file_extension": ".jshell",
   "mimetype": "text/x-java-source",
   "name": "java",
   "pygments_lexer": "java",
   "version": "17.0.13+11-Ubuntu-2ubuntu124.04"
  }
 },
 "nbformat": 4,
 "nbformat_minor": 2
}
