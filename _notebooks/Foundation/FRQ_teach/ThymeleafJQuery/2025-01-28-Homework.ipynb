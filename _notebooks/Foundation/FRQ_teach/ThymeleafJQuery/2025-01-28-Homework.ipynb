{
 "cells": [
  {
   "cell_type": "markdown",
   "metadata": {},
   "source": [
    "---\n",
    "layout: post\n",
    "toc: true\n",
    "title: JQuery/Thymeleaf Lesson\n",
    "description: Homework for JQuery/Thymeleaf lesson\n",
    "categories: [AP CSA]\n",
    "courses: { csa: {week: 18} }\n",
    "type: ccc\n",
    "menu: nav/FRQ_teach/jquery-thymeleafp3.html\n",
    "author: Akhil, Tarun, Kayden\n",
    "permalink: /period3/jquery-thymeleaf-homework\n",
    "---"
   ]
  },
  {
   "cell_type": "markdown",
   "metadata": {},
   "source": [
    "# Question 1: jQuery - Dynamic Content Update\n",
    "\n",
    "Objective:\n",
    "Use jQuery to dynamically update a p element with user input from an input field when a button is clicked."
   ]
  },
  {
   "cell_type": "markdown",
   "metadata": {
    "vscode": {
     "languageId": "html"
    }
   },
   "source": [
    "<head>\n",
    "    <title>jQuery Dynamic Update</title>\n",
    "    <script src=\"https://code.jquery.com/jquery-3.6.0.min.js\"></script>\n",
    "</head>\n",
    "<body>\n",
    "\n",
    "<script>\n",
    "    $(document).ready(function() {\n",
    "        // TODO: Implement live text update\n",
    "        // TODO: Display character count\n",
    "        // TODO: Show warning if character limit is reached\n",
    "    });\n",
    "</script>"
   ]
  },
  {
   "cell_type": "code",
   "execution_count": null,
   "metadata": {
    "vscode": {
     "languageId": "html"
    }
   },
   "outputs": [],
   "source": [
    "<html xmlns:th=\"http://www.thymeleaf.org\">\n",
    "<head>\n",
    "    <title>Dynamic Content Update</title>\n",
    "    <script src=\"https://code.jquery.com/jquery-3.6.0.min.js\"></script>\n",
    "    <script th:inline=\"javascript\">\n",
    "        $(document).ready(function() {\n",
    "            $(\"#updateButton\").click(function() {\n",
    "                var userInput = $(\"#userInput\").val();\n",
    "                $(\"#dynamicContent\").text(userInput);\n",
    "            });\n",
    "        });\n",
    "    </script>\n",
    "</head>\n",
    "<body>\n",
    "\n",
    "    <input type=\"text\" id=\"userInput\" placeholder=\"Enter text here\">\n",
    "    <button id=\"updateButton\">Update</button>\n",
    "\n",
    "    <p id=\"dynamicContent\">This text will be updated.</p>\n",
    "\n",
    "</body>\n",
    "</html>"
   ]
  },
  {
   "cell_type": "markdown",
   "metadata": {},
   "source": [
    "# Question 2: Thymeleaf - Displaying a List of Items\n",
    "\n",
    "Objective:\n",
    "Use Thymeleaf to display a list of students stored in a backend Java controller.\n",
    "\n",
    "Info you may need:\n",
    "  - student.getStatus(): Returns True if the student passed, returns False if the student failed\n",
    "  - student.getName(): Returns student name\n",
    "  - student.getGrade(): Returns student grade"
   ]
  },
  {
   "cell_type": "code",
   "execution_count": null,
   "metadata": {
    "vscode": {
     "languageId": "java"
    }
   },
   "outputs": [],
   "source": [
    "@Controller\n",
    "public class StudentController {\n",
    "\n",
    "    @GetMapping(\"/students\")\n",
    "    public String getStudents(Model model) {\n",
    "        List<Student> students = Arrays.asList(\n",
    "            new Student(\"Jacob\", 85, true),\n",
    "            new Student(\"James\", 45, false),\n",
    "            new Student(\"Jason\", 70, true),\n",
    "            new Student(\"John\", 50, false)\n",
    "        );\n",
    "        model.addAttribute(\"students\", students);\n",
    "        return \"students\";\n",
    "    }\n",
    "}\n"
   ]
  },
  {
   "cell_type": "code",
   "execution_count": null,
   "metadata": {
    "vscode": {
     "languageId": "java"
    }
   },
   "outputs": [],
   "source": [
    "public class Student {\n",
    "    private String name;\n",
    "    private int grade;\n",
    "    private boolean status;\n",
    "\n",
    "    public Student(String name, int grade, boolean status) {\n",
    "        this.name = name;\n",
    "        this.grade = grade;\n",
    "        this.status = status;\n",
    "    }\n",
    "\n",
    "    public String getName() {\n",
    "        return name;\n",
    "    }\n",
    "    public int getGrade() {\n",
    "        return grade;\n",
    "    }\n",
    "    public boolean getStatus() {\n",
    "        return status;\n",
    "    }\n",
    "}"
   ]
  },
  {
   "cell_type": "code",
   "execution_count": null,
   "metadata": {
    "vscode": {
     "languageId": "java"
    }
   },
   "outputs": [],
   "source": [
    "<html lang=\"en\" xmlns:th=\"http://www.thymeleaf.org\">\n",
    "<head>\n",
    "    <meta charset=\"UTF-8\">\n",
    "    <meta name=\"viewport\" content=\"width=device-width, initial-scale=1.0\">\n",
    "    <title>Student List</title>\n",
    "    <style>\n",
    "        .passed { color: green; font-weight: bold; }\n",
    "        .failed { color: red; font-weight: bold; }\n",
    "    </style>\n",
    "</head>\n",
    "<body>\n",
    "\n",
    "    <h2>Student List</h2>\n",
    "    <table border=\"1\">\n",
    "        <thead>\n",
    "            <tr>\n",
    "                <th>Name</th>\n",
    "                <th>Grade</th>\n",
    "                <th>Status</th>\n",
    "            </tr>\n",
    "        </thead>\n",
    "        <tbody>\n",
    "            <tr th:each=\"student : ${students}\">\n",
    "                <td th:text=\"${student.name}\"></td>\n",
    "                <td th:text=\"${student.grade}\"></td>\n",
    "                <td th:text=\"${student.status ? 'Passed' : 'Failed'}\" \n",
    "                    th:class=\"${student.status} ? 'passed' : 'failed'\">\n",
    "                </td>\n",
    "            </tr>\n",
    "        </tbody>\n",
    "    </table>\n",
    "\n",
    "</body>\n",
    "</html>"
   ]
  },
  {
   "cell_type": "markdown",
   "metadata": {
    "vscode": {
     "languageId": "html"
    }
   },
   "source": [
    "<html lang=\"en\" xmlns:th=\"http://www.thymeleaf.org\">\n",
    "<head>\n",
    "    <meta charset=\"UTF-8\">\n",
    "    <meta name=\"viewport\" content=\"width=device-width, initial-scale=1.0\">\n",
    "    <title>Student List</title>\n",
    "    <style>\n",
    "        .failed {\n",
    "            color: red;\n",
    "            font-weight: bold;\n",
    "        }\n",
    "        .passed {\n",
    "            color: green;\n",
    "            font-weight: bold;\n",
    "        }\n",
    "    </style>\n",
    "</head>\n",
    "<body>\n",
    "    <h2>Student List</h2>\n",
    "    <table border=\"1\">\n",
    "        <thead>\n",
    "            <tr>\n",
    "                <th>Name</th>\n",
    "                <th>Grade</th>\n",
    "                <th>Status</th>\n",
    "            </tr>\n",
    "        </thead>\n",
    "        <tbody>\n",
    "            <tr th:each=\"student : ${students}\">\n",
    "                <td th:text=\"${student.name}\"></td>\n",
    "                <td th:text=\"${student.grade}\"></td>\n",
    "                <td th:text=\"${student.status ? 'Passed' : 'Failed'}\"\n",
    "                    th:classappend=\"${student.status} ? 'passed' : 'failed'\">\n",
    "                </td>\n",
    "            </tr>\n",
    "        </tbody>\n",
    "    </table>\n",
    "\n",
    "</body>\n",
    "</html>\n"
   ]
  },
  {
   "cell_type": "markdown",
   "metadata": {},
   "source": [
    "# Bonus Question:\n",
    "\n",
    "Why is Thymeleaf better than creating a regular table? What are any potential pros and cons of Thymeleaf tables?"
   ]
  },
  {
   "cell_type": "markdown",
   "metadata": {},
   "source": [
    "Because it can pull data from the backend which can be very useful\n",
    "<br>\n",
    "We can use Spring Boot to link Thymeleaf and Backend controller\n",
    "<br>\n",
    "You don't have to hard code values\n",
    "<br>\n",
    "However you have to keep rerunning Spring Boot to see changes when you make changes to thymeleaf code"
   ]
  }
 ],
 "metadata": {
  "kernelspec": {
   "display_name": "venv",
   "language": "python",
   "name": "python3"
  },
  "language_info": {
   "codemirror_mode": {
    "name": "ipython",
    "version": 3
   },
   "file_extension": ".py",
   "mimetype": "text/x-python",
   "name": "python",
   "nbconvert_exporter": "python",
   "pygments_lexer": "ipython3",
   "version": "3.12.5"
  },
  "orig_nbformat": 4
 },
 "nbformat": 4,
 "nbformat_minor": 2
}
