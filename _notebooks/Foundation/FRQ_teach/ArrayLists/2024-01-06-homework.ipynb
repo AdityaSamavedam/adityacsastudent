{
 "cells": [
  {
   "cell_type": "markdown",
   "metadata": {},
   "source": [
    "---\n",
    "layout: post\n",
    "toc: true\n",
    "title: Array/Homework\n",
    "description: AP CSA FRQ Array/Arraylist Homework\n",
    "courses: { csa: {week: 1} }\n",
    "type: ccc\n",
    "categories: [AP CSA]\n",
    "menu: nav/student_toolkit/P3CSATeamTeach/array.html\n",
    "permalink: /teamteach/array/homework\n",
    "---"
   ]
  },
  {
   "cell_type": "markdown",
   "metadata": {},
   "source": [
    "# Homework\n",
    "\n",
    "Write a program that randomly fills in 0s and 1s into an n-by-n matrix, prints the matrix, and finds the rows and columns with the most 1s. (Hint: Use two ArrayLists to store the row and column indices with the most 1s.) \n",
    "\n",
    "Here is a sample run of the program, printed in the console: \n",
    "```\n",
    "Enter the array size n: 4\n",
    "The random array is\n",
    "0011\n",
    "0011\n",
    "1101\n",
    "1010\n",
    "The largest row index: 2\n",
    "The largest column index: 2, 3 \n",
    "```"
   ]
  },
  {
   "cell_type": "code",
   "execution_count": 3,
   "metadata": {
    "vscode": {
     "languageId": "java"
    }
   },
   "outputs": [
    {
     "name": "stdout",
     "output_type": "stream",
     "text": [
      "Enter the array size n: The random array is\n",
      "0011000\n",
      "0000010\n",
      "0110011\n",
      "1111001\n",
      "1101001\n",
      "0001000\n",
      "0001001\n",
      "The largest row index: 3\n",
      "The largest column index: 3\n"
     ]
    }
   ],
   "source": [
    "import java.util.ArrayList;\n",
    "import java.util.Scanner;\n",
    "\n",
    "public class MatrixMaxOnes {\n",
    "    public static void main(String[] args) {\n",
    "        Scanner input = new Scanner(System.in);\n",
    "\n",
    "        System.out.print(\"Enter the array size n: \");\n",
    "        int n = input.nextInt();\n",
    "\n",
    "        int[][] matrix = new int[n][n];\n",
    "        for (int i = 0; i < n; i++) {\n",
    "            for (int j = 0; j < n; j++) {\n",
    "                matrix[i][j] = (int) (Math.random() * 2);\n",
    "            }\n",
    "        }\n",
    "\n",
    "        System.out.println(\"The random array is\");\n",
    "        for (int i = 0; i < n; i++) {\n",
    "            for (int j = 0; j < n; j++) {\n",
    "                System.out.print(matrix[i][j]);\n",
    "            }\n",
    "            System.out.println();\n",
    "        }\n",
    "\n",
    "        int maxRowCount = 0;\n",
    "        ArrayList<Integer> maxRows = new ArrayList<>();\n",
    "        for (int i = 0; i < n; i++) {\n",
    "            int rowCount = 0;\n",
    "            for (int j = 0; j < n; j++) {\n",
    "                rowCount += matrix[i][j];\n",
    "            }\n",
    "            if (rowCount > maxRowCount) {\n",
    "                maxRowCount = rowCount;\n",
    "                maxRows.clear();\n",
    "                maxRows.add(i);\n",
    "            } else if (rowCount == maxRowCount) {\n",
    "                maxRows.add(i);\n",
    "            }\n",
    "        }\n",
    "\n",
    "        int maxColCount = 0;\n",
    "        ArrayList<Integer> maxCols = new ArrayList<>();\n",
    "        for (int j = 0; j < n; j++) {\n",
    "            int colCount = 0;\n",
    "            for (int i = 0; i < n; i++) {\n",
    "                colCount += matrix[i][j];\n",
    "            }\n",
    "            if (colCount > maxColCount) {\n",
    "                maxColCount = colCount;\n",
    "                maxCols.clear();\n",
    "                maxCols.add(j);\n",
    "            } else if (colCount == maxColCount) {\n",
    "                maxCols.add(j);\n",
    "            }\n",
    "        }\n",
    "\n",
    "        System.out.println(\"The largest row index: \" + listToString(maxRows));\n",
    "        System.out.println(\"The largest column index: \" + listToString(maxCols));\n",
    "    }\n",
    "\n",
    "    private static String listToString(ArrayList<Integer> list) {\n",
    "        StringBuilder sb = new StringBuilder();\n",
    "        for (int i = 0; i < list.size(); i++) {\n",
    "            sb.append(list.get(i));\n",
    "            if (i < list.size() - 1) {\n",
    "                sb.append(\", \");\n",
    "            }\n",
    "        }\n",
    "        return sb.toString();\n",
    "    }\n",
    "}\n",
    "\n",
    "MatrixMaxOnes.main(null);"
   ]
  }
 ],
 "metadata": {
  "kernelspec": {
   "display_name": "Java",
   "language": "java",
   "name": "java"
  },
  "language_info": {
   "codemirror_mode": "java",
   "file_extension": ".jshell",
   "mimetype": "text/x-java-source",
   "name": "Java",
   "pygments_lexer": "java",
   "version": "17.0.13+11-Ubuntu-2ubuntu124.04"
  }
 },
 "nbformat": 4,
 "nbformat_minor": 2
}
