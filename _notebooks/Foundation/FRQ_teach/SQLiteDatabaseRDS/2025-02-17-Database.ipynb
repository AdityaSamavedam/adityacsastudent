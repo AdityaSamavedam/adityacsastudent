{
 "cells": [
  {
   "cell_type": "markdown",
   "metadata": {},
   "source": [
    "<!-- ---\n",
    "layout: post\n",
    "title: Databases (P3)\n",
    "categories: [AP CSA]\n",
    "menu: nav/CSA_Units/frqs/recursion_p3.html\n",
    "permalink: /recursion/p3_recursion_part1\n",
    "toc: false\n",
    "comments: true\n",
    "--- -->"
   ]
  },
  {
   "cell_type": "markdown",
   "metadata": {},
   "source": [
    "# Databases"
   ]
  },
  {
   "cell_type": "markdown",
   "metadata": {},
   "source": [
    "## Intro to Databases\n",
    "- A database is a structured collection of data that can be easily accessed, managed, and updated. Databases are used in almost every application today, from websites to banking systems, and even scientific research.\n",
    "\n",
    "## Why Do We Need Databases?\n",
    "Before databases, data was stored in files, leading to:\n",
    "- Redundancy: The same data was stored multiple times.\n",
    "- Inconsistency: Different versions of data in different files.\n",
    "- Data Isolation: Hard to retrieve and manipulate related data.\n",
    "- Security Issues: Difficult to restrict access to sensitive data.\n",
    "\n",
    "Databases solve these problems by organizing data in a structured way, allowing for efficient storage, retrieval, and security."
   ]
  },
  {
   "cell_type": "markdown",
   "metadata": {
    "vscode": {
     "languageId": "plaintext"
    }
   },
   "source": [
    "![Image](https://github.com/user-attachments/assets/b5d3c47d-9081-477b-8203-40765f485c48)"
   ]
  },
  {
   "cell_type": "markdown",
   "metadata": {},
   "source": [
    "## Types of Databases\n",
    "Databases can be categorized based on their structure and functionality:\n",
    "\n",
    "**1. Relational Databases (RDBMS)**\n",
    "- Data is stored in tables (rows and columns).\n",
    "- Uses Structured Query Language (SQL).\n",
    "- Examples: MySQL, PostgreSQL, Oracle Database.\n",
    "\n",
    "**2. NoSQL Databases**\n",
    "- Designed for unstructured and semi-structured data.\n",
    "- Good for big data and real-time applications.\n",
    "- Examples: MongoDB, Cassandra, Redis.\n",
    "\n",
    "**3. Hierarchical Databases**\n",
    "- Data is stored in a tree-like structure (parent-child relationship).\n",
    "- Example: IBM Information Management System (IMS).\n",
    "\n",
    "**4. Network Databases**\n",
    "- More flexible than hierarchical databases, allowing many-to-many relationships.\n",
    "- Example: Integrated Data Store (IDS).\n",
    "\n",
    "**5. Object-Oriented Databases**\n",
    "- Data is stored as objects (similar to object-oriented programming).\n",
    "- Example: db4o, ObjectDB."
   ]
  },
  {
   "cell_type": "markdown",
   "metadata": {},
   "source": [
    "## Database Management System (DBMS)\n",
    "A **DBMS** is software that interacts with databases to perform operations like creating, reading, updating, and deleting data (CRUD operations).\n",
    "\n",
    "**Features of DBMS:**\n",
    "- **Data Abstraction**: Hides complex storage details from users.\n",
    "- **Data Independence**: Changes in structure do not affect applications.\n",
    "- **Data Security**: Provides authentication and authorization.\n",
    "- **Concurrency Control**: Allows multiple users to access data simultaneously.\n",
    "- **Backup and Recovery**: Ensures data safety."
   ]
  },
  {
   "cell_type": "markdown",
   "metadata": {},
   "source": [
    "## SQL: The Language of Databases\n",
    "\n",
    "![Image](https://github.com/user-attachments/assets/c7146f60-055a-4b78-b16b-2076a494798f)\n",
    "\n",
    "SQL (**Structured Query Language**) is used to interact with relational databases.\n",
    "\n",
    "**Basic SQL Commands**:\n",
    "- DDL (Data Definition Language): Defines database schema.\n",
    "    - `CREATE TABLE students (id INT, name VARCHAR(50));`\n",
    "    - `ALTER TABLE students ADD age INT;`\n",
    "    - `DROP TABLE students;`\n",
    "\n",
    "- DML (Data Manipulation Language): Modifies data.\n",
    "    - `INSERT INTO students VALUES (1, 'John Doe');`\n",
    "    - `UPDATE students SET age = 20 WHERE id = 1;`\n",
    "    - `DELETE FROM students WHERE id = 1;`\n",
    "\n",
    "- DQL (Data Query Language): Retrieves data.\n",
    "    - `SELECT * FROM students;`\n",
    "    - `SELECT name FROM students WHERE age > 18;`\n",
    "\n",
    "- DCL (Data Control Language): Controls user access.\n",
    "    - `GRANT SELECT ON students TO user1;`\n",
    "    - `REVOKE SELECT ON students FROM user1;`"
   ]
  },
  {
   "cell_type": "markdown",
   "metadata": {},
   "source": [
    "## ACID Properties of a Database\n",
    "For a database transaction to be reliable, it must follow ACID properties:\n",
    "- **Atomicity**: A transaction is either fully completed or not executed at all.\n",
    "- **Consistency**: Ensures that the database remains in a valid state.\n",
    "- **Isolation**: Transactions occur independently.\n",
    "- **Durability**: Once a transaction is committed, it remains stored permanently."
   ]
  },
  {
   "cell_type": "markdown",
   "metadata": {},
   "source": [
    "## Popcorn Hack 1: Identify the Type of Database\n",
    "\n",
    "Match the following database types to their best use cases:\n",
    "\n",
    "1. A **banking system** requiring strict data integrity.<br>\n",
    "2. A **social media platform** with large-scale unstructured data.<br>\n",
    "3. A **library catalog** storing books in a tree-like format.<br>\n",
    "4. A **gaming leaderboard** storing real-time scores and player stats.<br>\n",
    "\n",
    "Options:<br>\n",
    "A) Relational Database<br>\n",
    "B) NoSQL Database<br>\n",
    "C) Hierarchical Database<br>\n",
    "D) Object-Oriented Database"
   ]
  },
  {
   "cell_type": "markdown",
   "metadata": {},
   "source": [
    "## Popcorn Hack 2: Write SQL Queries\n",
    "Given the following table named `Employees`:\n",
    "\n",
    "|EmpID   |Name   |Age     |Department|\n",
    "|--------|-------|--------|----------|\n",
    "|101     |Alice  |30      |HR        |\n",
    "|102     |Bob    |25      |IT        |\n",
    "|103     |Carol  |28      |Finance   |\n",
    "\n",
    "Write SQL queries to:\n",
    "\n",
    "1. Retrieve all employees working in the IT department.<br>\n",
    "2. Add a new employee: `EmpID = 104, Name = Dave, Age = 26, Department = IT.`<br>\n",
    "3. Delete the record of the employee named Carol."
   ]
  },
  {
   "cell_type": "markdown",
   "metadata": {},
   "source": [
    "## Homework Question\n",
    "\n",
    "You are designing a small database for a university that stores student and course information.\n",
    "\n",
    "Requirements:\n",
    "1. Each student has an `ID`, `Name`, `Age`, and `Major`.<br>\n",
    "2. Each course has a `CourseID`, `CourseName`, and `Credits`.<br>\n",
    "3. Students enroll in courses, creating a many-to-many relationship.<br>\n",
    "\n",
    "Task:\n",
    "- Design the schema for the database (list the necessary tables and their attributes).\n",
    "- Write SQL queries for the following:\n",
    "    1. Create the `Students` and `Courses` tables.<br>\n",
    "    2. Enroll a student with ID `1001` into the course with ID `CS101`.<br>\n",
    "    3. Retrieve the list of all students enrolled in `CS101`."
   ]
  }
 ],
 "metadata": {
  "kernelspec": {
   "display_name": "Java",
   "language": "java",
   "name": "java"
  },
  "language_info": {
   "codemirror_mode": "java",
   "file_extension": ".jshell",
   "mimetype": "text/x-java-source",
   "name": "java",
   "pygments_lexer": "java",
   "version": "17.0.13+11-Ubuntu-2ubuntu124.04"
  }
 },
 "nbformat": 4,
 "nbformat_minor": 2
}
